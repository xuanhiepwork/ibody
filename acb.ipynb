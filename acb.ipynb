{
 "cells": [
  {
   "cell_type": "markdown",
   "metadata": {
    "object_type": "Table",
    "urn": "Server[@Name='DUYTRUONG']/Database[@Name='Final_IBODY']/Table[@Name='__EFMigrationsHistory' and @Schema='dbo']"
   },
   "source": [
    "# [dbo].[__EFMigrationsHistory]"
   ]
  },
  {
   "cell_type": "code",
   "execution_count": 0,
   "metadata": {
    "object_type": "Table",
    "urn": "Server[@Name='DUYTRUONG']/Database[@Name='Final_IBODY']/Table[@Name='__EFMigrationsHistory' and @Schema='dbo']"
   },
   "outputs": [],
   "source": [
    "USE [Final_IBODY]\n",
    "GO\n"
   ]
  },
  {
   "cell_type": "code",
   "execution_count": 0,
   "metadata": {
    "object_type": "Table",
    "urn": "Server[@Name='DUYTRUONG']/Database[@Name='Final_IBODY']/Table[@Name='__EFMigrationsHistory' and @Schema='dbo']"
   },
   "outputs": [],
   "source": [
    "/****** Object:  Table [dbo].[__EFMigrationsHistory]    Script Date: 4/28/2025 11:31:13 PM ******/\n",
    "SET ANSI_NULLS ON\n",
    "GO\n",
    "SET QUOTED_IDENTIFIER ON\n",
    "GO\n",
    "CREATE TABLE [dbo].[__EFMigrationsHistory](\n",
    "\t[MigrationId] [nvarchar](150) NOT NULL,\n",
    "\t[ProductVersion] [nvarchar](32) NOT NULL,\n",
    " CONSTRAINT [PK___EFMigrationsHistory] PRIMARY KEY CLUSTERED \n",
    "(\n",
    "\t[MigrationId] ASC\n",
    ")WITH (PAD_INDEX = OFF, STATISTICS_NORECOMPUTE = OFF, IGNORE_DUP_KEY = OFF, ALLOW_ROW_LOCKS = ON, ALLOW_PAGE_LOCKS = ON, OPTIMIZE_FOR_SEQUENTIAL_KEY = OFF) ON [PRIMARY]\n",
    ") ON [PRIMARY]\n",
    "GO\n"
   ]
  },
  {
   "cell_type": "markdown",
   "metadata": {
    "object_type": "Table",
    "urn": "Server[@Name='DUYTRUONG']/Database[@Name='Final_IBODY']/Table[@Name='AspNetRoleClaims' and @Schema='dbo']"
   },
   "source": [
    "# [dbo].[AspNetRoleClaims]"
   ]
  },
  {
   "cell_type": "code",
   "execution_count": 0,
   "metadata": {
    "object_type": "Table",
    "urn": "Server[@Name='DUYTRUONG']/Database[@Name='Final_IBODY']/Table[@Name='AspNetRoleClaims' and @Schema='dbo']"
   },
   "outputs": [],
   "source": [
    "/****** Object:  Table [dbo].[AspNetRoleClaims]    Script Date: 4/28/2025 11:31:13 PM ******/\n",
    "SET ANSI_NULLS ON\n",
    "GO\n",
    "SET QUOTED_IDENTIFIER ON\n",
    "GO\n",
    "CREATE TABLE [dbo].[AspNetRoleClaims](\n",
    "\t[Id] [int] IDENTITY(1,1) NOT NULL,\n",
    "\t[RoleId] [nvarchar](450) NOT NULL,\n",
    "\t[ClaimType] [nvarchar](max) NULL,\n",
    "\t[ClaimValue] [nvarchar](max) NULL,\n",
    " CONSTRAINT [PK_AspNetRoleClaims] PRIMARY KEY CLUSTERED \n",
    "(\n",
    "\t[Id] ASC\n",
    ")WITH (PAD_INDEX = OFF, STATISTICS_NORECOMPUTE = OFF, IGNORE_DUP_KEY = OFF, ALLOW_ROW_LOCKS = ON, ALLOW_PAGE_LOCKS = ON, OPTIMIZE_FOR_SEQUENTIAL_KEY = OFF) ON [PRIMARY]\n",
    ") ON [PRIMARY] TEXTIMAGE_ON [PRIMARY]\n",
    "GO\n"
   ]
  },
  {
   "cell_type": "markdown",
   "metadata": {
    "object_type": "Table",
    "urn": "Server[@Name='DUYTRUONG']/Database[@Name='Final_IBODY']/Table[@Name='AspNetRoles' and @Schema='dbo']"
   },
   "source": [
    "# [dbo].[AspNetRoles]"
   ]
  },
  {
   "cell_type": "code",
   "execution_count": 0,
   "metadata": {
    "object_type": "Table",
    "urn": "Server[@Name='DUYTRUONG']/Database[@Name='Final_IBODY']/Table[@Name='AspNetRoles' and @Schema='dbo']"
   },
   "outputs": [],
   "source": [
    "/****** Object:  Table [dbo].[AspNetRoles]    Script Date: 4/28/2025 11:31:13 PM ******/\n",
    "SET ANSI_NULLS ON\n",
    "GO\n",
    "SET QUOTED_IDENTIFIER ON\n",
    "GO\n",
    "CREATE TABLE [dbo].[AspNetRoles](\n",
    "\t[Id] [nvarchar](450) NOT NULL,\n",
    "\t[Name] [nvarchar](256) NULL,\n",
    "\t[NormalizedName] [nvarchar](256) NULL,\n",
    "\t[ConcurrencyStamp] [nvarchar](max) NULL,\n",
    " CONSTRAINT [PK_AspNetRoles] PRIMARY KEY CLUSTERED \n",
    "(\n",
    "\t[Id] ASC\n",
    ")WITH (PAD_INDEX = OFF, STATISTICS_NORECOMPUTE = OFF, IGNORE_DUP_KEY = OFF, ALLOW_ROW_LOCKS = ON, ALLOW_PAGE_LOCKS = ON, OPTIMIZE_FOR_SEQUENTIAL_KEY = OFF) ON [PRIMARY]\n",
    ") ON [PRIMARY] TEXTIMAGE_ON [PRIMARY]\n",
    "GO\n"
   ]
  },
  {
   "cell_type": "markdown",
   "metadata": {
    "object_type": "Table",
    "urn": "Server[@Name='DUYTRUONG']/Database[@Name='Final_IBODY']/Table[@Name='AspNetUserClaims' and @Schema='dbo']"
   },
   "source": [
    "# [dbo].[AspNetUserClaims]"
   ]
  },
  {
   "cell_type": "code",
   "execution_count": 0,
   "metadata": {
    "object_type": "Table",
    "urn": "Server[@Name='DUYTRUONG']/Database[@Name='Final_IBODY']/Table[@Name='AspNetUserClaims' and @Schema='dbo']"
   },
   "outputs": [],
   "source": [
    "/****** Object:  Table [dbo].[AspNetUserClaims]    Script Date: 4/28/2025 11:31:13 PM ******/\n",
    "SET ANSI_NULLS ON\n",
    "GO\n",
    "SET QUOTED_IDENTIFIER ON\n",
    "GO\n",
    "CREATE TABLE [dbo].[AspNetUserClaims](\n",
    "\t[Id] [int] IDENTITY(1,1) NOT NULL,\n",
    "\t[UserId] [nvarchar](450) NOT NULL,\n",
    "\t[ClaimType] [nvarchar](max) NULL,\n",
    "\t[ClaimValue] [nvarchar](max) NULL,\n",
    " CONSTRAINT [PK_AspNetUserClaims] PRIMARY KEY CLUSTERED \n",
    "(\n",
    "\t[Id] ASC\n",
    ")WITH (PAD_INDEX = OFF, STATISTICS_NORECOMPUTE = OFF, IGNORE_DUP_KEY = OFF, ALLOW_ROW_LOCKS = ON, ALLOW_PAGE_LOCKS = ON, OPTIMIZE_FOR_SEQUENTIAL_KEY = OFF) ON [PRIMARY]\n",
    ") ON [PRIMARY] TEXTIMAGE_ON [PRIMARY]\n",
    "GO\n"
   ]
  },
  {
   "cell_type": "markdown",
   "metadata": {
    "object_type": "Table",
    "urn": "Server[@Name='DUYTRUONG']/Database[@Name='Final_IBODY']/Table[@Name='AspNetUserLogins' and @Schema='dbo']"
   },
   "source": [
    "# [dbo].[AspNetUserLogins]"
   ]
  },
  {
   "cell_type": "code",
   "execution_count": 0,
   "metadata": {
    "object_type": "Table",
    "urn": "Server[@Name='DUYTRUONG']/Database[@Name='Final_IBODY']/Table[@Name='AspNetUserLogins' and @Schema='dbo']"
   },
   "outputs": [],
   "source": [
    "/****** Object:  Table [dbo].[AspNetUserLogins]    Script Date: 4/28/2025 11:31:13 PM ******/\n",
    "SET ANSI_NULLS ON\n",
    "GO\n",
    "SET QUOTED_IDENTIFIER ON\n",
    "GO\n",
    "CREATE TABLE [dbo].[AspNetUserLogins](\n",
    "\t[LoginProvider] [nvarchar](450) NOT NULL,\n",
    "\t[ProviderKey] [nvarchar](450) NOT NULL,\n",
    "\t[ProviderDisplayName] [nvarchar](max) NULL,\n",
    "\t[UserId] [nvarchar](450) NOT NULL,\n",
    " CONSTRAINT [PK_AspNetUserLogins] PRIMARY KEY CLUSTERED \n",
    "(\n",
    "\t[LoginProvider] ASC,\n",
    "\t[ProviderKey] ASC\n",
    ")WITH (PAD_INDEX = OFF, STATISTICS_NORECOMPUTE = OFF, IGNORE_DUP_KEY = OFF, ALLOW_ROW_LOCKS = ON, ALLOW_PAGE_LOCKS = ON, OPTIMIZE_FOR_SEQUENTIAL_KEY = OFF) ON [PRIMARY]\n",
    ") ON [PRIMARY] TEXTIMAGE_ON [PRIMARY]\n",
    "GO\n"
   ]
  },
  {
   "cell_type": "markdown",
   "metadata": {
    "object_type": "Table",
    "urn": "Server[@Name='DUYTRUONG']/Database[@Name='Final_IBODY']/Table[@Name='AspNetUserRoles' and @Schema='dbo']"
   },
   "source": [
    "# [dbo].[AspNetUserRoles]"
   ]
  },
  {
   "cell_type": "code",
   "execution_count": 0,
   "metadata": {
    "object_type": "Table",
    "urn": "Server[@Name='DUYTRUONG']/Database[@Name='Final_IBODY']/Table[@Name='AspNetUserRoles' and @Schema='dbo']"
   },
   "outputs": [],
   "source": [
    "/****** Object:  Table [dbo].[AspNetUserRoles]    Script Date: 4/28/2025 11:31:13 PM ******/\n",
    "SET ANSI_NULLS ON\n",
    "GO\n",
    "SET QUOTED_IDENTIFIER ON\n",
    "GO\n",
    "CREATE TABLE [dbo].[AspNetUserRoles](\n",
    "\t[UserId] [nvarchar](450) NOT NULL,\n",
    "\t[RoleId] [nvarchar](450) NOT NULL,\n",
    " CONSTRAINT [PK_AspNetUserRoles] PRIMARY KEY CLUSTERED \n",
    "(\n",
    "\t[UserId] ASC,\n",
    "\t[RoleId] ASC\n",
    ")WITH (PAD_INDEX = OFF, STATISTICS_NORECOMPUTE = OFF, IGNORE_DUP_KEY = OFF, ALLOW_ROW_LOCKS = ON, ALLOW_PAGE_LOCKS = ON, OPTIMIZE_FOR_SEQUENTIAL_KEY = OFF) ON [PRIMARY]\n",
    ") ON [PRIMARY]\n",
    "GO\n"
   ]
  },
  {
   "cell_type": "markdown",
   "metadata": {
    "object_type": "Table",
    "urn": "Server[@Name='DUYTRUONG']/Database[@Name='Final_IBODY']/Table[@Name='AspNetUsers' and @Schema='dbo']"
   },
   "source": [
    "# [dbo].[AspNetUsers]"
   ]
  },
  {
   "cell_type": "code",
   "execution_count": 0,
   "metadata": {
    "object_type": "Table",
    "urn": "Server[@Name='DUYTRUONG']/Database[@Name='Final_IBODY']/Table[@Name='AspNetUsers' and @Schema='dbo']"
   },
   "outputs": [],
   "source": [
    "/****** Object:  Table [dbo].[AspNetUsers]    Script Date: 4/28/2025 11:31:13 PM ******/\n",
    "SET ANSI_NULLS ON\n",
    "GO\n",
    "SET QUOTED_IDENTIFIER ON\n",
    "GO\n",
    "CREATE TABLE [dbo].[AspNetUsers](\n",
    "\t[Id] [nvarchar](450) NOT NULL,\n",
    "\t[FullName] [nvarchar](max) NULL,\n",
    "\t[Gender] [nvarchar](max) NULL,\n",
    "\t[Dob] [date] NULL,\n",
    "\t[UserName] [nvarchar](256) NULL,\n",
    "\t[NormalizedUserName] [nvarchar](256) NULL,\n",
    "\t[Email] [nvarchar](256) NULL,\n",
    "\t[NormalizedEmail] [nvarchar](256) NULL,\n",
    "\t[EmailConfirmed] [bit] NOT NULL,\n",
    "\t[PasswordHash] [nvarchar](max) NULL,\n",
    "\t[SecurityStamp] [nvarchar](max) NULL,\n",
    "\t[ConcurrencyStamp] [nvarchar](max) NULL,\n",
    "\t[PhoneNumber] [nvarchar](max) NULL,\n",
    "\t[PhoneNumberConfirmed] [bit] NOT NULL,\n",
    "\t[TwoFactorEnabled] [bit] NOT NULL,\n",
    "\t[LockoutEnd] [datetimeoffset](7) NULL,\n",
    "\t[LockoutEnabled] [bit] NOT NULL,\n",
    "\t[AccessFailedCount] [int] NOT NULL,\n",
    " CONSTRAINT [PK_AspNetUsers] PRIMARY KEY CLUSTERED \n",
    "(\n",
    "\t[Id] ASC\n",
    ")WITH (PAD_INDEX = OFF, STATISTICS_NORECOMPUTE = OFF, IGNORE_DUP_KEY = OFF, ALLOW_ROW_LOCKS = ON, ALLOW_PAGE_LOCKS = ON, OPTIMIZE_FOR_SEQUENTIAL_KEY = OFF) ON [PRIMARY]\n",
    ") ON [PRIMARY] TEXTIMAGE_ON [PRIMARY]\n",
    "GO\n"
   ]
  },
  {
   "cell_type": "markdown",
   "metadata": {
    "object_type": "Table",
    "urn": "Server[@Name='DUYTRUONG']/Database[@Name='Final_IBODY']/Table[@Name='AspNetUserTokens' and @Schema='dbo']"
   },
   "source": [
    "# [dbo].[AspNetUserTokens]"
   ]
  },
  {
   "cell_type": "code",
   "execution_count": 0,
   "metadata": {
    "object_type": "Table",
    "urn": "Server[@Name='DUYTRUONG']/Database[@Name='Final_IBODY']/Table[@Name='AspNetUserTokens' and @Schema='dbo']"
   },
   "outputs": [],
   "source": [
    "/****** Object:  Table [dbo].[AspNetUserTokens]    Script Date: 4/28/2025 11:31:13 PM ******/\n",
    "SET ANSI_NULLS ON\n",
    "GO\n",
    "SET QUOTED_IDENTIFIER ON\n",
    "GO\n",
    "CREATE TABLE [dbo].[AspNetUserTokens](\n",
    "\t[UserId] [nvarchar](450) NOT NULL,\n",
    "\t[LoginProvider] [nvarchar](450) NOT NULL,\n",
    "\t[Name] [nvarchar](450) NOT NULL,\n",
    "\t[Value] [nvarchar](max) NULL,\n",
    " CONSTRAINT [PK_AspNetUserTokens] PRIMARY KEY CLUSTERED \n",
    "(\n",
    "\t[UserId] ASC,\n",
    "\t[LoginProvider] ASC,\n",
    "\t[Name] ASC\n",
    ")WITH (PAD_INDEX = OFF, STATISTICS_NORECOMPUTE = OFF, IGNORE_DUP_KEY = OFF, ALLOW_ROW_LOCKS = ON, ALLOW_PAGE_LOCKS = ON, OPTIMIZE_FOR_SEQUENTIAL_KEY = OFF) ON [PRIMARY]\n",
    ") ON [PRIMARY] TEXTIMAGE_ON [PRIMARY]\n",
    "GO\n"
   ]
  },
  {
   "cell_type": "markdown",
   "metadata": {
    "object_type": "Table",
    "urn": "Server[@Name='DUYTRUONG']/Database[@Name='Final_IBODY']/Table[@Name='bao_cao_vi_pham' and @Schema='dbo']"
   },
   "source": [
    "# [dbo].[bao_cao_vi_pham]"
   ]
  },
  {
   "cell_type": "code",
   "execution_count": 0,
   "metadata": {
    "object_type": "Table",
    "urn": "Server[@Name='DUYTRUONG']/Database[@Name='Final_IBODY']/Table[@Name='bao_cao_vi_pham' and @Schema='dbo']"
   },
   "outputs": [],
   "source": [
    "/****** Object:  Table [dbo].[bao_cao_vi_pham]    Script Date: 4/28/2025 11:31:13 PM ******/\n",
    "SET ANSI_NULLS ON\n",
    "GO\n",
    "SET QUOTED_IDENTIFIER ON\n",
    "GO\n",
    "CREATE TABLE [dbo].[bao_cao_vi_pham](\n",
    "\t[id] [int] IDENTITY(1,1) NOT NULL,\n",
    "\t[nguoi_bao_cao_id] [int] NULL,\n",
    "\t[loai_doi_tuong] [varchar](20) NULL,\n",
    "\t[doi_tuong_id] [int] NULL,\n",
    "\t[ly_do] [nvarchar](max) NULL,\n",
    "\t[thoi_gian] [datetime] NULL,\n",
    "PRIMARY KEY CLUSTERED \n",
    "(\n",
    "\t[id] ASC\n",
    ")WITH (PAD_INDEX = OFF, STATISTICS_NORECOMPUTE = OFF, IGNORE_DUP_KEY = OFF, ALLOW_ROW_LOCKS = ON, ALLOW_PAGE_LOCKS = ON, OPTIMIZE_FOR_SEQUENTIAL_KEY = OFF) ON [PRIMARY]\n",
    ") ON [PRIMARY] TEXTIMAGE_ON [PRIMARY]\n",
    "GO\n"
   ]
  },
  {
   "cell_type": "markdown",
   "metadata": {
    "object_type": "Table",
    "urn": "Server[@Name='DUYTRUONG']/Database[@Name='Final_IBODY']/Table[@Name='binh_luan' and @Schema='dbo']"
   },
   "source": [
    "# [dbo].[binh_luan]"
   ]
  },
  {
   "cell_type": "code",
   "execution_count": 0,
   "metadata": {
    "object_type": "Table",
    "urn": "Server[@Name='DUYTRUONG']/Database[@Name='Final_IBODY']/Table[@Name='binh_luan' and @Schema='dbo']"
   },
   "outputs": [],
   "source": [
    "/****** Object:  Table [dbo].[binh_luan]    Script Date: 4/28/2025 11:31:13 PM ******/\n",
    "SET ANSI_NULLS ON\n",
    "GO\n",
    "SET QUOTED_IDENTIFIER ON\n",
    "GO\n",
    "CREATE TABLE [dbo].[binh_luan](\n",
    "\t[id] [int] IDENTITY(1,1) NOT NULL,\n",
    "\t[nguoi_binh_luan_id] [int] NULL,\n",
    "\t[loai_doi_tuong] [varchar](20) NULL,\n",
    "\t[doi_tuong_id] [int] NULL,\n",
    "\t[noi_dung] [nvarchar](max) NULL,\n",
    "\t[thoi_gian] [datetime] NULL,\n",
    "PRIMARY KEY CLUSTERED \n",
    "(\n",
    "\t[id] ASC\n",
    ")WITH (PAD_INDEX = OFF, STATISTICS_NORECOMPUTE = OFF, IGNORE_DUP_KEY = OFF, ALLOW_ROW_LOCKS = ON, ALLOW_PAGE_LOCKS = ON, OPTIMIZE_FOR_SEQUENTIAL_KEY = OFF) ON [PRIMARY]\n",
    ") ON [PRIMARY] TEXTIMAGE_ON [PRIMARY]\n",
    "GO\n"
   ]
  },
  {
   "cell_type": "markdown",
   "metadata": {
    "object_type": "Table",
    "urn": "Server[@Name='DUYTRUONG']/Database[@Name='Final_IBODY']/Table[@Name='chuyen_gia' and @Schema='dbo']"
   },
   "source": [
    "# [dbo].[chuyen_gia]"
   ]
  },
  {
   "cell_type": "code",
   "execution_count": 0,
   "metadata": {
    "object_type": "Table",
    "urn": "Server[@Name='DUYTRUONG']/Database[@Name='Final_IBODY']/Table[@Name='chuyen_gia' and @Schema='dbo']"
   },
   "outputs": [],
   "source": [
    "/****** Object:  Table [dbo].[chuyen_gia]    Script Date: 4/28/2025 11:31:13 PM ******/\n",
    "SET ANSI_NULLS ON\n",
    "GO\n",
    "SET QUOTED_IDENTIFIER ON\n",
    "GO\n",
    "CREATE TABLE [dbo].[chuyen_gia](\n",
    "\t[id] [int] IDENTITY(1,1) NOT NULL,\n",
    "\t[tai_khoan_id] [int] NULL,\n",
    "\t[ho_ten] [nvarchar](255) NULL,\n",
    "\t[so_nam_kinh_nghiem] [int] NULL,\n",
    "\t[so_chung_chi] [nvarchar](100) NULL,\n",
    "\t[chuyen_mon] [nvarchar](max) NULL,\n",
    "\t[gioi_thieu] [nvarchar](max) NULL,\n",
    "\t[trang_thai] [varchar](20) NULL,\n",
    "PRIMARY KEY CLUSTERED \n",
    "(\n",
    "\t[id] ASC\n",
    ")WITH (PAD_INDEX = OFF, STATISTICS_NORECOMPUTE = OFF, IGNORE_DUP_KEY = OFF, ALLOW_ROW_LOCKS = ON, ALLOW_PAGE_LOCKS = ON, OPTIMIZE_FOR_SEQUENTIAL_KEY = OFF) ON [PRIMARY]\n",
    ") ON [PRIMARY] TEXTIMAGE_ON [PRIMARY]\n",
    "GO\n"
   ]
  },
  {
   "cell_type": "markdown",
   "metadata": {
    "object_type": "Table",
    "urn": "Server[@Name='DUYTRUONG']/Database[@Name='Final_IBODY']/Table[@Name='danh_gia' and @Schema='dbo']"
   },
   "source": [
    "# [dbo].[danh_gia]"
   ]
  },
  {
   "cell_type": "code",
   "execution_count": 0,
   "metadata": {
    "object_type": "Table",
    "urn": "Server[@Name='DUYTRUONG']/Database[@Name='Final_IBODY']/Table[@Name='danh_gia' and @Schema='dbo']"
   },
   "outputs": [],
   "source": [
    "/****** Object:  Table [dbo].[danh_gia]    Script Date: 4/28/2025 11:31:13 PM ******/\n",
    "SET ANSI_NULLS ON\n",
    "GO\n",
    "SET QUOTED_IDENTIFIER ON\n",
    "GO\n",
    "CREATE TABLE [dbo].[danh_gia](\n",
    "\t[id] [int] IDENTITY(1,1) NOT NULL,\n",
    "\t[lich_hen_id] [int] NULL,\n",
    "\t[nguoi_dung_id] [int] NULL,\n",
    "\t[chuyen_gia_id] [int] NULL,\n",
    "\t[diem_so] [int] NULL,\n",
    "\t[nhan_xet] [nvarchar](max) NULL,\n",
    "PRIMARY KEY CLUSTERED \n",
    "(\n",
    "\t[id] ASC\n",
    ")WITH (PAD_INDEX = OFF, STATISTICS_NORECOMPUTE = OFF, IGNORE_DUP_KEY = OFF, ALLOW_ROW_LOCKS = ON, ALLOW_PAGE_LOCKS = ON, OPTIMIZE_FOR_SEQUENTIAL_KEY = OFF) ON [PRIMARY]\n",
    ") ON [PRIMARY] TEXTIMAGE_ON [PRIMARY]\n",
    "GO\n"
   ]
  },
  {
   "cell_type": "markdown",
   "metadata": {
    "object_type": "Table",
    "urn": "Server[@Name='DUYTRUONG']/Database[@Name='Final_IBODY']/Table[@Name='giao_dich' and @Schema='dbo']"
   },
   "source": [
    "# [dbo].[giao_dich]"
   ]
  },
  {
   "cell_type": "code",
   "execution_count": 0,
   "metadata": {
    "object_type": "Table",
    "urn": "Server[@Name='DUYTRUONG']/Database[@Name='Final_IBODY']/Table[@Name='giao_dich' and @Schema='dbo']"
   },
   "outputs": [],
   "source": [
    "/****** Object:  Table [dbo].[giao_dich]    Script Date: 4/28/2025 11:31:13 PM ******/\n",
    "SET ANSI_NULLS ON\n",
    "GO\n",
    "SET QUOTED_IDENTIFIER ON\n",
    "GO\n",
    "CREATE TABLE [dbo].[giao_dich](\n",
    "\t[id] [int] IDENTITY(1,1) NOT NULL,\n",
    "\t[hoa_don_id] [int] NULL,\n",
    "\t[phuong_thuc_id] [int] NULL,\n",
    "\t[so_tien] [decimal](10, 2) NULL,\n",
    "\t[thoi_gian] [datetime] NULL,\n",
    "PRIMARY KEY CLUSTERED \n",
    "(\n",
    "\t[id] ASC\n",
    ")WITH (PAD_INDEX = OFF, STATISTICS_NORECOMPUTE = OFF, IGNORE_DUP_KEY = OFF, ALLOW_ROW_LOCKS = ON, ALLOW_PAGE_LOCKS = ON, OPTIMIZE_FOR_SEQUENTIAL_KEY = OFF) ON [PRIMARY]\n",
    ") ON [PRIMARY]\n",
    "GO\n"
   ]
  },
  {
   "cell_type": "markdown",
   "metadata": {
    "object_type": "Table",
    "urn": "Server[@Name='DUYTRUONG']/Database[@Name='Final_IBODY']/Table[@Name='goi_dich_vu' and @Schema='dbo']"
   },
   "source": [
    "# [dbo].[goi_dich_vu]"
   ]
  },
  {
   "cell_type": "code",
   "execution_count": 0,
   "metadata": {
    "object_type": "Table",
    "urn": "Server[@Name='DUYTRUONG']/Database[@Name='Final_IBODY']/Table[@Name='goi_dich_vu' and @Schema='dbo']"
   },
   "outputs": [],
   "source": [
    "/****** Object:  Table [dbo].[goi_dich_vu]    Script Date: 4/28/2025 11:31:13 PM ******/\n",
    "SET ANSI_NULLS ON\n",
    "GO\n",
    "SET QUOTED_IDENTIFIER ON\n",
    "GO\n",
    "CREATE TABLE [dbo].[goi_dich_vu](\n",
    "\t[id] [int] IDENTITY(1,1) NOT NULL,\n",
    "\t[ten] [nvarchar](255) NULL,\n",
    "\t[mo_ta] [nvarchar](max) NULL,\n",
    "\t[gia] [decimal](10, 2) NULL,\n",
    "\t[thoi_han_ngay] [int] NULL,\n",
    "\t[danh_cho] [varchar](20) NULL,\n",
    "PRIMARY KEY CLUSTERED \n",
    "(\n",
    "\t[id] ASC\n",
    ")WITH (PAD_INDEX = OFF, STATISTICS_NORECOMPUTE = OFF, IGNORE_DUP_KEY = OFF, ALLOW_ROW_LOCKS = ON, ALLOW_PAGE_LOCKS = ON, OPTIMIZE_FOR_SEQUENTIAL_KEY = OFF) ON [PRIMARY]\n",
    ") ON [PRIMARY] TEXTIMAGE_ON [PRIMARY]\n",
    "GO\n"
   ]
  },
  {
   "cell_type": "markdown",
   "metadata": {
    "object_type": "Table",
    "urn": "Server[@Name='DUYTRUONG']/Database[@Name='Final_IBODY']/Table[@Name='hinh_thuc_tu_van' and @Schema='dbo']"
   },
   "source": [
    "# [dbo].[hinh_thuc_tu_van]"
   ]
  },
  {
   "cell_type": "code",
   "execution_count": 0,
   "metadata": {
    "object_type": "Table",
    "urn": "Server[@Name='DUYTRUONG']/Database[@Name='Final_IBODY']/Table[@Name='hinh_thuc_tu_van' and @Schema='dbo']"
   },
   "outputs": [],
   "source": [
    "/****** Object:  Table [dbo].[hinh_thuc_tu_van]    Script Date: 4/28/2025 11:31:13 PM ******/\n",
    "SET ANSI_NULLS ON\n",
    "GO\n",
    "SET QUOTED_IDENTIFIER ON\n",
    "GO\n",
    "CREATE TABLE [dbo].[hinh_thuc_tu_van](\n",
    "\t[id] [int] IDENTITY(1,1) NOT NULL,\n",
    "\t[ten] [varchar](20) NULL,\n",
    "\t[thoi_luong_phut] [int] NULL,\n",
    "\t[gia_co_ban] [decimal](10, 2) NULL,\n",
    "PRIMARY KEY CLUSTERED \n",
    "(\n",
    "\t[id] ASC\n",
    ")WITH (PAD_INDEX = OFF, STATISTICS_NORECOMPUTE = OFF, IGNORE_DUP_KEY = OFF, ALLOW_ROW_LOCKS = ON, ALLOW_PAGE_LOCKS = ON, OPTIMIZE_FOR_SEQUENTIAL_KEY = OFF) ON [PRIMARY]\n",
    ") ON [PRIMARY]\n",
    "GO\n"
   ]
  },
  {
   "cell_type": "markdown",
   "metadata": {
    "object_type": "Table",
    "urn": "Server[@Name='DUYTRUONG']/Database[@Name='Final_IBODY']/Table[@Name='hoa_don' and @Schema='dbo']"
   },
   "source": [
    "# [dbo].[hoa_don]"
   ]
  },
  {
   "cell_type": "code",
   "execution_count": 0,
   "metadata": {
    "object_type": "Table",
    "urn": "Server[@Name='DUYTRUONG']/Database[@Name='Final_IBODY']/Table[@Name='hoa_don' and @Schema='dbo']"
   },
   "outputs": [],
   "source": [
    "/****** Object:  Table [dbo].[hoa_don]    Script Date: 4/28/2025 11:31:13 PM ******/\n",
    "SET ANSI_NULLS ON\n",
    "GO\n",
    "SET QUOTED_IDENTIFIER ON\n",
    "GO\n",
    "CREATE TABLE [dbo].[hoa_don](\n",
    "\t[id] [int] IDENTITY(1,1) NOT NULL,\n",
    "\t[tai_khoan_id] [int] NULL,\n",
    "\t[goi_dich_vu_id] [int] NULL,\n",
    "\t[tong_tien] [decimal](10, 2) NULL,\n",
    "\t[thoi_gian_tao] [datetime] NULL,\n",
    "PRIMARY KEY CLUSTERED \n",
    "(\n",
    "\t[id] ASC\n",
    ")WITH (PAD_INDEX = OFF, STATISTICS_NORECOMPUTE = OFF, IGNORE_DUP_KEY = OFF, ALLOW_ROW_LOCKS = ON, ALLOW_PAGE_LOCKS = ON, OPTIMIZE_FOR_SEQUENTIAL_KEY = OFF) ON [PRIMARY]\n",
    ") ON [PRIMARY]\n",
    "GO\n"
   ]
  },
  {
   "cell_type": "markdown",
   "metadata": {
    "object_type": "Table",
    "urn": "Server[@Name='DUYTRUONG']/Database[@Name='Final_IBODY']/Table[@Name='hoc_van_chuyen_gia' and @Schema='dbo']"
   },
   "source": [
    "# [dbo].[hoc_van_chuyen_gia]"
   ]
  },
  {
   "cell_type": "code",
   "execution_count": 0,
   "metadata": {
    "object_type": "Table",
    "urn": "Server[@Name='DUYTRUONG']/Database[@Name='Final_IBODY']/Table[@Name='hoc_van_chuyen_gia' and @Schema='dbo']"
   },
   "outputs": [],
   "source": [
    "/****** Object:  Table [dbo].[hoc_van_chuyen_gia]    Script Date: 4/28/2025 11:31:13 PM ******/\n",
    "SET ANSI_NULLS ON\n",
    "GO\n",
    "SET QUOTED_IDENTIFIER ON\n",
    "GO\n",
    "CREATE TABLE [dbo].[hoc_van_chuyen_gia](\n",
    "\t[id] [int] IDENTITY(1,1) NOT NULL,\n",
    "\t[chuyen_gia_id] [int] NULL,\n",
    "\t[truong] [nvarchar](255) NULL,\n",
    "\t[bang_cap] [nvarchar](255) NULL,\n",
    "\t[chuyen_nganh] [nvarchar](255) NULL,\n",
    "\t[nam_tot_nghiep] [int] NULL,\n",
    "PRIMARY KEY CLUSTERED \n",
    "(\n",
    "\t[id] ASC\n",
    ")WITH (PAD_INDEX = OFF, STATISTICS_NORECOMPUTE = OFF, IGNORE_DUP_KEY = OFF, ALLOW_ROW_LOCKS = ON, ALLOW_PAGE_LOCKS = ON, OPTIMIZE_FOR_SEQUENTIAL_KEY = OFF) ON [PRIMARY]\n",
    ") ON [PRIMARY]\n",
    "GO\n"
   ]
  },
  {
   "cell_type": "markdown",
   "metadata": {
    "object_type": "Table",
    "urn": "Server[@Name='DUYTRUONG']/Database[@Name='Final_IBODY']/Table[@Name='lich_hen' and @Schema='dbo']"
   },
   "source": [
    "# [dbo].[lich_hen]"
   ]
  },
  {
   "cell_type": "code",
   "execution_count": 0,
   "metadata": {
    "object_type": "Table",
    "urn": "Server[@Name='DUYTRUONG']/Database[@Name='Final_IBODY']/Table[@Name='lich_hen' and @Schema='dbo']"
   },
   "outputs": [],
   "source": [
    "/****** Object:  Table [dbo].[lich_hen]    Script Date: 4/28/2025 11:31:13 PM ******/\n",
    "SET ANSI_NULLS ON\n",
    "GO\n",
    "SET QUOTED_IDENTIFIER ON\n",
    "GO\n",
    "CREATE TABLE [dbo].[lich_hen](\n",
    "\t[id] [int] IDENTITY(1,1) NOT NULL,\n",
    "\t[nguoi_dung_id] [int] NULL,\n",
    "\t[chuyen_gia_id] [int] NULL,\n",
    "\t[hinh_thuc_id] [int] NULL,\n",
    "\t[thoi_gian_bat_dau] [datetime] NULL,\n",
    "\t[thoi_gian_ket_thuc] [datetime] NULL,\n",
    "\t[tom_tat] [nvarchar](max) NULL,\n",
    "\t[trang_thai] [varchar](20) NULL,\n",
    "PRIMARY KEY CLUSTERED \n",
    "(\n",
    "\t[id] ASC\n",
    ")WITH (PAD_INDEX = OFF, STATISTICS_NORECOMPUTE = OFF, IGNORE_DUP_KEY = OFF, ALLOW_ROW_LOCKS = ON, ALLOW_PAGE_LOCKS = ON, OPTIMIZE_FOR_SEQUENTIAL_KEY = OFF) ON [PRIMARY]\n",
    ") ON [PRIMARY] TEXTIMAGE_ON [PRIMARY]\n",
    "GO\n"
   ]
  },
  {
   "cell_type": "markdown",
   "metadata": {
    "object_type": "Table",
    "urn": "Server[@Name='DUYTRUONG']/Database[@Name='Final_IBODY']/Table[@Name='nguoi_dung' and @Schema='dbo']"
   },
   "source": [
    "# [dbo].[nguoi_dung]"
   ]
  },
  {
   "cell_type": "code",
   "execution_count": 0,
   "metadata": {
    "object_type": "Table",
    "urn": "Server[@Name='DUYTRUONG']/Database[@Name='Final_IBODY']/Table[@Name='nguoi_dung' and @Schema='dbo']"
   },
   "outputs": [],
   "source": [
    "/****** Object:  Table [dbo].[nguoi_dung]    Script Date: 4/28/2025 11:31:13 PM ******/\n",
    "SET ANSI_NULLS ON\n",
    "GO\n",
    "SET QUOTED_IDENTIFIER ON\n",
    "GO\n",
    "CREATE TABLE [dbo].[nguoi_dung](\n",
    "\t[id] [int] IDENTITY(1,1) NOT NULL,\n",
    "\t[tai_khoan_id] [int] NULL,\n",
    "\t[ho_ten] [nvarchar](255) NULL,\n",
    "\t[ngay_sinh] [date] NULL,\n",
    "\t[gioi_tinh] [varchar](10) NULL,\n",
    "\t[muc_tieu_tam_ly] [nvarchar](max) NULL,\n",
    "PRIMARY KEY CLUSTERED \n",
    "(\n",
    "\t[id] ASC\n",
    ")WITH (PAD_INDEX = OFF, STATISTICS_NORECOMPUTE = OFF, IGNORE_DUP_KEY = OFF, ALLOW_ROW_LOCKS = ON, ALLOW_PAGE_LOCKS = ON, OPTIMIZE_FOR_SEQUENTIAL_KEY = OFF) ON [PRIMARY]\n",
    ") ON [PRIMARY] TEXTIMAGE_ON [PRIMARY]\n",
    "GO\n"
   ]
  },
  {
   "cell_type": "markdown",
   "metadata": {
    "object_type": "Table",
    "urn": "Server[@Name='DUYTRUONG']/Database[@Name='Final_IBODY']/Table[@Name='phuong_thuc_chung' and @Schema='dbo']"
   },
   "source": [
    "# [dbo].[phuong_thuc_chung]"
   ]
  },
  {
   "cell_type": "code",
   "execution_count": 0,
   "metadata": {
    "object_type": "Table",
    "urn": "Server[@Name='DUYTRUONG']/Database[@Name='Final_IBODY']/Table[@Name='phuong_thuc_chung' and @Schema='dbo']"
   },
   "outputs": [],
   "source": [
    "/****** Object:  Table [dbo].[phuong_thuc_chung]    Script Date: 4/28/2025 11:31:13 PM ******/\n",
    "SET ANSI_NULLS ON\n",
    "GO\n",
    "SET QUOTED_IDENTIFIER ON\n",
    "GO\n",
    "CREATE TABLE [dbo].[phuong_thuc_chung](\n",
    "\t[id] [int] IDENTITY(1,1) NOT NULL,\n",
    "\t[ten] [nvarchar](50) NOT NULL,\n",
    "\t[mo_ta] [nvarchar](max) NULL,\n",
    "\t[trang_thai] [varchar](10) NULL,\n",
    "PRIMARY KEY CLUSTERED \n",
    "(\n",
    "\t[id] ASC\n",
    ")WITH (PAD_INDEX = OFF, STATISTICS_NORECOMPUTE = OFF, IGNORE_DUP_KEY = OFF, ALLOW_ROW_LOCKS = ON, ALLOW_PAGE_LOCKS = ON, OPTIMIZE_FOR_SEQUENTIAL_KEY = OFF) ON [PRIMARY]\n",
    ") ON [PRIMARY] TEXTIMAGE_ON [PRIMARY]\n",
    "GO\n"
   ]
  },
  {
   "cell_type": "markdown",
   "metadata": {
    "object_type": "Table",
    "urn": "Server[@Name='DUYTRUONG']/Database[@Name='Final_IBODY']/Table[@Name='phuong_thuc_nguoi_dung' and @Schema='dbo']"
   },
   "source": [
    "# [dbo].[phuong_thuc_nguoi_dung]"
   ]
  },
  {
   "cell_type": "code",
   "execution_count": 0,
   "metadata": {
    "object_type": "Table",
    "urn": "Server[@Name='DUYTRUONG']/Database[@Name='Final_IBODY']/Table[@Name='phuong_thuc_nguoi_dung' and @Schema='dbo']"
   },
   "outputs": [],
   "source": [
    "/****** Object:  Table [dbo].[phuong_thuc_nguoi_dung]    Script Date: 4/28/2025 11:31:13 PM ******/\n",
    "SET ANSI_NULLS ON\n",
    "GO\n",
    "SET QUOTED_IDENTIFIER ON\n",
    "GO\n",
    "CREATE TABLE [dbo].[phuong_thuc_nguoi_dung](\n",
    "\t[id] [int] IDENTITY(1,1) NOT NULL,\n",
    "\t[tai_khoan_id] [int] NOT NULL,\n",
    "\t[phuong_thuc_id] [int] NOT NULL,\n",
    "\t[chi_tiet] [nvarchar](255) NULL,\n",
    "\t[da_xac_thuc] [bit] NULL,\n",
    "\t[ngay_tao] [datetime] NULL,\n",
    "PRIMARY KEY CLUSTERED \n",
    "(\n",
    "\t[id] ASC\n",
    ")WITH (PAD_INDEX = OFF, STATISTICS_NORECOMPUTE = OFF, IGNORE_DUP_KEY = OFF, ALLOW_ROW_LOCKS = ON, ALLOW_PAGE_LOCKS = ON, OPTIMIZE_FOR_SEQUENTIAL_KEY = OFF) ON [PRIMARY]\n",
    ") ON [PRIMARY]\n",
    "GO\n"
   ]
  },
  {
   "cell_type": "markdown",
   "metadata": {
    "object_type": "Table",
    "urn": "Server[@Name='DUYTRUONG']/Database[@Name='Final_IBODY']/Table[@Name='tai_khoan' and @Schema='dbo']"
   },
   "source": [
    "# [dbo].[tai_khoan]"
   ]
  },
  {
   "cell_type": "code",
   "execution_count": 0,
   "metadata": {
    "object_type": "Table",
    "urn": "Server[@Name='DUYTRUONG']/Database[@Name='Final_IBODY']/Table[@Name='tai_khoan' and @Schema='dbo']"
   },
   "outputs": [],
   "source": [
    "/****** Object:  Table [dbo].[tai_khoan]    Script Date: 4/28/2025 11:31:13 PM ******/\n",
    "SET ANSI_NULLS ON\n",
    "GO\n",
    "SET QUOTED_IDENTIFIER ON\n",
    "GO\n",
    "CREATE TABLE [dbo].[tai_khoan](\n",
    "\t[id] [int] IDENTITY(1,1) NOT NULL,\n",
    "\t[email] [varchar](255) NOT NULL,\n",
    "\t[mat_khau] [varchar](255) NOT NULL,\n",
    "\t[vai_tro] [varchar](20) NULL,\n",
    "\t[trang_thai] [varchar](20) NULL,\n",
    "PRIMARY KEY CLUSTERED \n",
    "(\n",
    "\t[id] ASC\n",
    ")WITH (PAD_INDEX = OFF, STATISTICS_NORECOMPUTE = OFF, IGNORE_DUP_KEY = OFF, ALLOW_ROW_LOCKS = ON, ALLOW_PAGE_LOCKS = ON, OPTIMIZE_FOR_SEQUENTIAL_KEY = OFF) ON [PRIMARY]\n",
    ") ON [PRIMARY]\n",
    "GO\n"
   ]
  },
  {
   "cell_type": "markdown",
   "metadata": {
    "object_type": "Table",
    "urn": "Server[@Name='DUYTRUONG']/Database[@Name='Final_IBODY']/Table[@Name='thoi_gian_ranh_chuyen_gia' and @Schema='dbo']"
   },
   "source": [
    "# [dbo].[thoi_gian_ranh_chuyen_gia]"
   ]
  },
  {
   "cell_type": "code",
   "execution_count": 0,
   "metadata": {
    "object_type": "Table",
    "urn": "Server[@Name='DUYTRUONG']/Database[@Name='Final_IBODY']/Table[@Name='thoi_gian_ranh_chuyen_gia' and @Schema='dbo']"
   },
   "outputs": [],
   "source": [
    "/****** Object:  Table [dbo].[thoi_gian_ranh_chuyen_gia]    Script Date: 4/28/2025 11:31:13 PM ******/\n",
    "SET ANSI_NULLS ON\n",
    "GO\n",
    "SET QUOTED_IDENTIFIER ON\n",
    "GO\n",
    "CREATE TABLE [dbo].[thoi_gian_ranh_chuyen_gia](\n",
    "\t[id] [int] IDENTITY(1,1) NOT NULL,\n",
    "\t[chuyen_gia_id] [int] NULL,\n",
    "\t[thu_trong_tuan] [int] NULL,\n",
    "\t[tu] [time](7) NULL,\n",
    "\t[den] [time](7) NULL,\n",
    "PRIMARY KEY CLUSTERED \n",
    "(\n",
    "\t[id] ASC\n",
    ")WITH (PAD_INDEX = OFF, STATISTICS_NORECOMPUTE = OFF, IGNORE_DUP_KEY = OFF, ALLOW_ROW_LOCKS = ON, ALLOW_PAGE_LOCKS = ON, OPTIMIZE_FOR_SEQUENTIAL_KEY = OFF) ON [PRIMARY]\n",
    ") ON [PRIMARY]\n",
    "GO\n"
   ]
  },
  {
   "cell_type": "markdown",
   "metadata": {
    "object_type": "Table",
    "urn": "Server[@Name='DUYTRUONG']/Database[@Name='Final_IBODY']/Table[@Name='thong_bao' and @Schema='dbo']"
   },
   "source": [
    "# [dbo].[thong_bao]"
   ]
  },
  {
   "cell_type": "code",
   "execution_count": 0,
   "metadata": {
    "object_type": "Table",
    "urn": "Server[@Name='DUYTRUONG']/Database[@Name='Final_IBODY']/Table[@Name='thong_bao' and @Schema='dbo']"
   },
   "outputs": [],
   "source": [
    "/****** Object:  Table [dbo].[thong_bao]    Script Date: 4/28/2025 11:31:13 PM ******/\n",
    "SET ANSI_NULLS ON\n",
    "GO\n",
    "SET QUOTED_IDENTIFIER ON\n",
    "GO\n",
    "CREATE TABLE [dbo].[thong_bao](\n",
    "\t[id] [int] IDENTITY(1,1) NOT NULL,\n",
    "\t[tai_khoan_id] [int] NULL,\n",
    "\t[loai] [varchar](20) NULL,\n",
    "\t[noi_dung] [nvarchar](max) NULL,\n",
    "\t[da_doc_luc] [datetime] NULL,\n",
    "PRIMARY KEY CLUSTERED \n",
    "(\n",
    "\t[id] ASC\n",
    ")WITH (PAD_INDEX = OFF, STATISTICS_NORECOMPUTE = OFF, IGNORE_DUP_KEY = OFF, ALLOW_ROW_LOCKS = ON, ALLOW_PAGE_LOCKS = ON, OPTIMIZE_FOR_SEQUENTIAL_KEY = OFF) ON [PRIMARY]\n",
    ") ON [PRIMARY] TEXTIMAGE_ON [PRIMARY]\n",
    "GO\n"
   ]
  },
  {
   "cell_type": "markdown",
   "metadata": {
    "object_type": "Table",
    "urn": "Server[@Name='DUYTRUONG']/Database[@Name='Final_IBODY']/Table[@Name='tin_nhan' and @Schema='dbo']"
   },
   "source": [
    "# [dbo].[tin_nhan]"
   ]
  },
  {
   "cell_type": "code",
   "execution_count": 0,
   "metadata": {
    "object_type": "Table",
    "urn": "Server[@Name='DUYTRUONG']/Database[@Name='Final_IBODY']/Table[@Name='tin_nhan' and @Schema='dbo']"
   },
   "outputs": [],
   "source": [
    "/****** Object:  Table [dbo].[tin_nhan]    Script Date: 4/28/2025 11:31:13 PM ******/\n",
    "SET ANSI_NULLS ON\n",
    "GO\n",
    "SET QUOTED_IDENTIFIER ON\n",
    "GO\n",
    "CREATE TABLE [dbo].[tin_nhan](\n",
    "\t[id] [int] IDENTITY(1,1) NOT NULL,\n",
    "\t[nguoi_gui_id] [int] NULL,\n",
    "\t[nguoi_nhan_id] [int] NULL,\n",
    "\t[noi_dung] [nvarchar](max) NULL,\n",
    "\t[thoi_gian] [datetime] NULL,\n",
    "PRIMARY KEY CLUSTERED \n",
    "(\n",
    "\t[id] ASC\n",
    ")WITH (PAD_INDEX = OFF, STATISTICS_NORECOMPUTE = OFF, IGNORE_DUP_KEY = OFF, ALLOW_ROW_LOCKS = ON, ALLOW_PAGE_LOCKS = ON, OPTIMIZE_FOR_SEQUENTIAL_KEY = OFF) ON [PRIMARY]\n",
    ") ON [PRIMARY] TEXTIMAGE_ON [PRIMARY]\n",
    "GO\n"
   ]
  },
  {
   "cell_type": "markdown",
   "metadata": {
    "object_type": "Table",
    "urn": "Server[@Name='DUYTRUONG']/Database[@Name='Final_IBODY']/Table[@Name='__EFMigrationsHistory' and @Schema='dbo']"
   },
   "source": [
    "# [dbo].[__EFMigrationsHistory]"
   ]
  },
  {
   "cell_type": "code",
   "execution_count": 0,
   "metadata": {
    "object_type": "Table",
    "urn": "Server[@Name='DUYTRUONG']/Database[@Name='Final_IBODY']/Table[@Name='__EFMigrationsHistory' and @Schema='dbo']"
   },
   "outputs": [],
   "source": [
    "INSERT [dbo].[__EFMigrationsHistory] ([MigrationId], [ProductVersion]) VALUES (N'20250417172639_InitIdentity', N'9.0.4')\n",
    "GO\n"
   ]
  },
  {
   "cell_type": "markdown",
   "metadata": {
    "object_type": "Table",
    "urn": "Server[@Name='DUYTRUONG']/Database[@Name='Final_IBODY']/Table[@Name='AspNetRoles' and @Schema='dbo']"
   },
   "source": [
    "# [dbo].[AspNetRoles]"
   ]
  },
  {
   "cell_type": "code",
   "execution_count": 0,
   "metadata": {
    "object_type": "Table",
    "urn": "Server[@Name='DUYTRUONG']/Database[@Name='Final_IBODY']/Table[@Name='AspNetRoles' and @Schema='dbo']"
   },
   "outputs": [],
   "source": [
    "INSERT [dbo].[AspNetRoles] ([Id], [Name], [NormalizedName], [ConcurrencyStamp]) VALUES (N'61b13d0d-0eae-453a-87f9-6d6e3e7b815c', N'quan_tri', N'QUAN_TRI', NULL)\n",
    "INSERT [dbo].[AspNetRoles] ([Id], [Name], [NormalizedName], [ConcurrencyStamp]) VALUES (N'9626269c-2863-4133-901f-791e03b28b28', N'string', N'STRING', NULL)\n",
    "INSERT [dbo].[AspNetRoles] ([Id], [Name], [NormalizedName], [ConcurrencyStamp]) VALUES (N'c16976a5-7902-438d-9808-2b5f24476fb2', N'nguoi_dung', N'NGUOI_DUNG', NULL)\n",
    "INSERT [dbo].[AspNetRoles] ([Id], [Name], [NormalizedName], [ConcurrencyStamp]) VALUES (N'F4D390A9-3CBB-40B6-AB17-4F3CC87FC317', N'chuyen_gia', N'CHUYEN_GIA', NULL)\n",
    "GO\n"
   ]
  },
  {
   "cell_type": "markdown",
   "metadata": {
    "object_type": "Table",
    "urn": "Server[@Name='DUYTRUONG']/Database[@Name='Final_IBODY']/Table[@Name='AspNetUserRoles' and @Schema='dbo']"
   },
   "source": [
    "# [dbo].[AspNetUserRoles]"
   ]
  },
  {
   "cell_type": "code",
   "execution_count": 0,
   "metadata": {
    "object_type": "Table",
    "urn": "Server[@Name='DUYTRUONG']/Database[@Name='Final_IBODY']/Table[@Name='AspNetUserRoles' and @Schema='dbo']"
   },
   "outputs": [],
   "source": [
    "INSERT [dbo].[AspNetUserRoles] ([UserId], [RoleId]) VALUES (N'b8c9c66c-ea21-44c5-b30d-7e6319a61ec2', N'61b13d0d-0eae-453a-87f9-6d6e3e7b815c')\n",
    "INSERT [dbo].[AspNetUserRoles] ([UserId], [RoleId]) VALUES (N'aa843420-2294-4dd6-9505-6c618358597a', N'9626269c-2863-4133-901f-791e03b28b28')\n",
    "INSERT [dbo].[AspNetUserRoles] ([UserId], [RoleId]) VALUES (N'2133491b-6c53-4e7d-8929-25357579ec4c', N'c16976a5-7902-438d-9808-2b5f24476fb2')\n",
    "INSERT [dbo].[AspNetUserRoles] ([UserId], [RoleId]) VALUES (N'464f1e5d-0ed5-4eca-8a7d-83b6e5a46dcc', N'c16976a5-7902-438d-9808-2b5f24476fb2')\n",
    "INSERT [dbo].[AspNetUserRoles] ([UserId], [RoleId]) VALUES (N'51d9d870-9415-4519-8050-44822407dfca', N'c16976a5-7902-438d-9808-2b5f24476fb2')\n",
    "INSERT [dbo].[AspNetUserRoles] ([UserId], [RoleId]) VALUES (N'672ce7c8-b6da-456c-a4d3-0cec70a2d380', N'c16976a5-7902-438d-9808-2b5f24476fb2')\n",
    "INSERT [dbo].[AspNetUserRoles] ([UserId], [RoleId]) VALUES (N'a2e68c0c-524f-4e4d-b343-309124437d90', N'c16976a5-7902-438d-9808-2b5f24476fb2')\n",
    "INSERT [dbo].[AspNetUserRoles] ([UserId], [RoleId]) VALUES (N'a2e68c0c-524f-4e4d-b343-309124437d90', N'F4D390A9-3CBB-40B6-AB17-4F3CC87FC317')\n",
    "GO\n"
   ]
  },
  {
   "cell_type": "markdown",
   "metadata": {
    "object_type": "Table",
    "urn": "Server[@Name='DUYTRUONG']/Database[@Name='Final_IBODY']/Table[@Name='AspNetUsers' and @Schema='dbo']"
   },
   "source": [
    "# [dbo].[AspNetUsers]"
   ]
  },
  {
   "cell_type": "code",
   "execution_count": 0,
   "metadata": {
    "object_type": "Table",
    "urn": "Server[@Name='DUYTRUONG']/Database[@Name='Final_IBODY']/Table[@Name='AspNetUsers' and @Schema='dbo']"
   },
   "outputs": [],
   "source": [
    "INSERT [dbo].[AspNetUsers] ([Id], [FullName], [Gender], [Dob], [UserName], [NormalizedUserName], [Email], [NormalizedEmail], [EmailConfirmed], [PasswordHash], [SecurityStamp], [ConcurrencyStamp], [PhoneNumber], [PhoneNumberConfirmed], [TwoFactorEnabled], [LockoutEnd], [LockoutEnabled], [AccessFailedCount]) VALUES (N'2133491b-6c53-4e7d-8929-25357579ec4c', N'Duy Trường', N'Nam', CAST(N'2025-04-21' AS Date), N'abc@gmail.com', N'ABC@GMAIL.COM', N'abc@gmail.com', N'ABC@GMAIL.COM', 0, N'AQAAAAIAAYagAAAAELiFrILFxX8YaG09UthxXxXoYNmmQX64rwhDYD1zKAGBZAB/ocAuc+YXhrXW0kK4BQ==', N'4JJJ2YHIALWV7KCPTUMGO7RQ7KJ3AIDJ', N'5677e35d-f259-4a87-804c-32bac3e1751f', NULL, 0, 0, NULL, 1, 0)\n",
    "INSERT [dbo].[AspNetUsers] ([Id], [FullName], [Gender], [Dob], [UserName], [NormalizedUserName], [Email], [NormalizedEmail], [EmailConfirmed], [PasswordHash], [SecurityStamp], [ConcurrencyStamp], [PhoneNumber], [PhoneNumberConfirmed], [TwoFactorEnabled], [LockoutEnd], [LockoutEnabled], [AccessFailedCount]) VALUES (N'464f1e5d-0ed5-4eca-8a7d-83b6e5a46dcc', N'trường', NULL, NULL, N'duytruongk22@gmail.com', N'DUYTRUONGK22@GMAIL.COM', N'duytruongk22@gmail.com', N'DUYTRUONGK22@GMAIL.COM', 0, N'AQAAAAIAAYagAAAAEH89JNPtQP0mPsOJWsACcYsl+iVGJL8de6QalYSO3LOo5cDQh6MyLYTWQheo+YeZ4A==', N'X3CXIYE6B5W5T5BDTS54LTXNJF5QJGXL', N'3f0e7060-6166-4e48-8661-f4415ac34f36', NULL, 0, 0, NULL, 1, 0)\n",
    "INSERT [dbo].[AspNetUsers] ([Id], [FullName], [Gender], [Dob], [UserName], [NormalizedUserName], [Email], [NormalizedEmail], [EmailConfirmed], [PasswordHash], [SecurityStamp], [ConcurrencyStamp], [PhoneNumber], [PhoneNumberConfirmed], [TwoFactorEnabled], [LockoutEnd], [LockoutEnabled], [AccessFailedCount]) VALUES (N'51d9d870-9415-4519-8050-44822407dfca', N'Alice jk', N'nu', CAST(N'2000-02-27' AS Date), N'alicegmail.com', N'ALICEGMAIL.COM', N'alicegmail.com', N'ALICEGMAIL.COM', 0, N'AQAAAAIAAYagAAAAEDvey4vff0OpBZZgdpPhQz5pZKd1l4qYfURRCVpDLpeezNwWsz2Zy55Ib14HB5tbqw==', N'D5RRJ4MDSU4S7Y6EBIZ7IPOUR6EEVVYA', N'84775ed2-7200-46d0-9f2b-94777449b32a', NULL, 0, 0, NULL, 1, 0)\n",
    "INSERT [dbo].[AspNetUsers] ([Id], [FullName], [Gender], [Dob], [UserName], [NormalizedUserName], [Email], [NormalizedEmail], [EmailConfirmed], [PasswordHash], [SecurityStamp], [ConcurrencyStamp], [PhoneNumber], [PhoneNumberConfirmed], [TwoFactorEnabled], [LockoutEnd], [LockoutEnabled], [AccessFailedCount]) VALUES (N'672ce7c8-b6da-456c-a4d3-0cec70a2d380', N'quyến', NULL, NULL, N'quyen@gmail.com', N'QUYEN@GMAIL.COM', N'quyen@gmail.com', N'QUYEN@GMAIL.COM', 0, N'AQAAAAIAAYagAAAAED6I9vjxIkYxkV8DkxV0xW5SM1jx2xyMwrKwBJR7BnQZltpoOQFZE0qOL9LAizSBHw==', N'LUUD74BL5WELJSTS5TSOQ3EJHNH444BP', N'60928b69-7147-40be-85cf-8b711d23e035', NULL, 0, 0, NULL, 1, 0)\n",
    "INSERT [dbo].[AspNetUsers] ([Id], [FullName], [Gender], [Dob], [UserName], [NormalizedUserName], [Email], [NormalizedEmail], [EmailConfirmed], [PasswordHash], [SecurityStamp], [ConcurrencyStamp], [PhoneNumber], [PhoneNumberConfirmed], [TwoFactorEnabled], [LockoutEnd], [LockoutEnabled], [AccessFailedCount]) VALUES (N'a2e68c0c-524f-4e4d-b343-309124437d90', N'quang', NULL, NULL, N'quang@gmail.com', N'QUANG@GMAIL.COM', N'quang@gmail.com', N'QUANG@GMAIL.COM', 0, N'AQAAAAIAAYagAAAAEPU+C8oMmd3Bvalog373Z6M6MCWQK9NkhEcK50MIcjJrp9k3zQpFBVNFHCOgNnBlNQ==', N'ASSKIORM77VILPXRSDFEPWKNEIQC6SWF', N'53b82764-f0d7-4dbe-8f01-bb87c03cb63c', NULL, 0, 0, NULL, 1, 0)\n",
    "INSERT [dbo].[AspNetUsers] ([Id], [FullName], [Gender], [Dob], [UserName], [NormalizedUserName], [Email], [NormalizedEmail], [EmailConfirmed], [PasswordHash], [SecurityStamp], [ConcurrencyStamp], [PhoneNumber], [PhoneNumberConfirmed], [TwoFactorEnabled], [LockoutEnd], [LockoutEnabled], [AccessFailedCount]) VALUES (N'aa843420-2294-4dd6-9505-6c618358597a', N'string', N'string', CAST(N'2025-04-27' AS Date), N'test@gmail.com', N'TEST@GMAIL.COM', N'test@gmail.com', N'TEST@GMAIL.COM', 0, N'AQAAAAIAAYagAAAAEOPw8T3ww1rroDd6RrEUEdw06bVrIaAWxW9TliYk5rpt8j+3OZvdauGUhxzWbu4OJQ==', N'26SX6EPRC6FLQTL54NASNL3FUD6HAXNZ', N'bff4ba1d-15b3-4ac0-93aa-973ae38c86fb', NULL, 0, 0, NULL, 1, 0)\n",
    "INSERT [dbo].[AspNetUsers] ([Id], [FullName], [Gender], [Dob], [UserName], [NormalizedUserName], [Email], [NormalizedEmail], [EmailConfirmed], [PasswordHash], [SecurityStamp], [ConcurrencyStamp], [PhoneNumber], [PhoneNumberConfirmed], [TwoFactorEnabled], [LockoutEnd], [LockoutEnabled], [AccessFailedCount]) VALUES (N'b8c9c66c-ea21-44c5-b30d-7e6319a61ec2', N'string', N'string', CAST(N'2025-04-27' AS Date), N'admin@123.com', N'ADMIN@123.COM', N'admin@123.com', N'ADMIN@123.COM', 0, N'AQAAAAIAAYagAAAAEN9MK3I4F/tMfqQG5MR3IZuKe9Zo2hTzcC1aBlucuKroBdlmqxMaiuu9QU0e+OStQA==', N'Y2V5JVHZO25Z5XDTT63RJN2GAKTLXKKH', N'44ce4e76-0647-4a0a-8581-a706514a5493', NULL, 0, 0, NULL, 1, 0)\n",
    "GO\n"
   ]
  },
  {
   "cell_type": "markdown",
   "metadata": {
    "object_type": "Table",
    "urn": "Server[@Name='DUYTRUONG']/Database[@Name='Final_IBODY']/Table[@Name='bao_cao_vi_pham' and @Schema='dbo']"
   },
   "source": [
    "# [dbo].[bao_cao_vi_pham]"
   ]
  },
  {
   "cell_type": "code",
   "execution_count": 0,
   "metadata": {
    "object_type": "Table",
    "urn": "Server[@Name='DUYTRUONG']/Database[@Name='Final_IBODY']/Table[@Name='bao_cao_vi_pham' and @Schema='dbo']"
   },
   "outputs": [],
   "source": [
    "SET IDENTITY_INSERT [dbo].[bao_cao_vi_pham] ON \n",
    "INSERT [dbo].[bao_cao_vi_pham] ([id], [nguoi_bao_cao_id], [loai_doi_tuong], [doi_tuong_id], [ly_do], [thoi_gian]) VALUES (2, 12, N'nguoi_dung', 18, N'sạo quá sạo', CAST(N'2025-04-28T00:15:54.123' AS DateTime))\n",
    "SET IDENTITY_INSERT [dbo].[bao_cao_vi_pham] OFF\n",
    "GO\n"
   ]
  },
  {
   "cell_type": "markdown",
   "metadata": {
    "object_type": "Table",
    "urn": "Server[@Name='DUYTRUONG']/Database[@Name='Final_IBODY']/Table[@Name='chuyen_gia' and @Schema='dbo']"
   },
   "source": [
    "# [dbo].[chuyen_gia]"
   ]
  },
  {
   "cell_type": "code",
   "execution_count": 0,
   "metadata": {
    "object_type": "Table",
    "urn": "Server[@Name='DUYTRUONG']/Database[@Name='Final_IBODY']/Table[@Name='chuyen_gia' and @Schema='dbo']"
   },
   "outputs": [],
   "source": [
    "SET IDENTITY_INSERT [dbo].[chuyen_gia] ON \n",
    "INSERT [dbo].[chuyen_gia] ([id], [tai_khoan_id], [ho_ten], [so_nam_kinh_nghiem], [so_chung_chi], [chuyen_mon], [gioi_thieu], [trang_thai]) VALUES (5, 18, N'Alice JK', 12, N'251231532', N'Tâm Lí tình cảm học đường', N'nhà tư vấn hiện đại', N'xac_thuc')\n",
    "INSERT [dbo].[chuyen_gia] ([id], [tai_khoan_id], [ho_ten], [so_nam_kinh_nghiem], [so_chung_chi], [chuyen_mon], [gioi_thieu], [trang_thai]) VALUES (7, 20, N'L V Q', 4, N'4635312', N'Tâm lí học hành vi', N'nhà tâm lí đại tài', N'xac_thuc')\n",
    "SET IDENTITY_INSERT [dbo].[chuyen_gia] OFF\n",
    "GO\n"
   ]
  },
  {
   "cell_type": "markdown",
   "metadata": {
    "object_type": "Table",
    "urn": "Server[@Name='DUYTRUONG']/Database[@Name='Final_IBODY']/Table[@Name='danh_gia' and @Schema='dbo']"
   },
   "source": [
    "# [dbo].[danh_gia]"
   ]
  },
  {
   "cell_type": "code",
   "execution_count": 0,
   "metadata": {
    "object_type": "Table",
    "urn": "Server[@Name='DUYTRUONG']/Database[@Name='Final_IBODY']/Table[@Name='danh_gia' and @Schema='dbo']"
   },
   "outputs": [],
   "source": [
    "SET IDENTITY_INSERT [dbo].[danh_gia] ON \n",
    "INSERT [dbo].[danh_gia] ([id], [lich_hen_id], [nguoi_dung_id], [chuyen_gia_id], [diem_so], [nhan_xet]) VALUES (4, 17, 3, 7, 4, N'good')\n",
    "SET IDENTITY_INSERT [dbo].[danh_gia] OFF\n",
    "GO\n"
   ]
  },
  {
   "cell_type": "markdown",
   "metadata": {
    "object_type": "Table",
    "urn": "Server[@Name='DUYTRUONG']/Database[@Name='Final_IBODY']/Table[@Name='giao_dich' and @Schema='dbo']"
   },
   "source": [
    "# [dbo].[giao_dich]"
   ]
  },
  {
   "cell_type": "code",
   "execution_count": 0,
   "metadata": {
    "object_type": "Table",
    "urn": "Server[@Name='DUYTRUONG']/Database[@Name='Final_IBODY']/Table[@Name='giao_dich' and @Schema='dbo']"
   },
   "outputs": [],
   "source": [
    "SET IDENTITY_INSERT [dbo].[giao_dich] ON \n",
    "INSERT [dbo].[giao_dich] ([id], [hoa_don_id], [phuong_thuc_id], [so_tien], [thoi_gian]) VALUES (7, 7, 1, CAST(150000.00 AS Decimal(10, 2)), CAST(N'2025-04-28T01:27:38.650' AS DateTime))\n",
    "INSERT [dbo].[giao_dich] ([id], [hoa_don_id], [phuong_thuc_id], [so_tien], [thoi_gian]) VALUES (8, 9, 1, CAST(250000.00 AS Decimal(10, 2)), CAST(N'2025-04-28T15:35:00.020' AS DateTime))\n",
    "INSERT [dbo].[giao_dich] ([id], [hoa_don_id], [phuong_thuc_id], [so_tien], [thoi_gian]) VALUES (9, 10, 2, CAST(5000000.00 AS Decimal(10, 2)), CAST(N'2025-04-28T17:07:37.393' AS DateTime))\n",
    "SET IDENTITY_INSERT [dbo].[giao_dich] OFF\n",
    "GO\n"
   ]
  },
  {
   "cell_type": "markdown",
   "metadata": {
    "object_type": "Table",
    "urn": "Server[@Name='DUYTRUONG']/Database[@Name='Final_IBODY']/Table[@Name='goi_dich_vu' and @Schema='dbo']"
   },
   "source": [
    "# [dbo].[goi_dich_vu]"
   ]
  },
  {
   "cell_type": "code",
   "execution_count": 0,
   "metadata": {
    "object_type": "Table",
    "urn": "Server[@Name='DUYTRUONG']/Database[@Name='Final_IBODY']/Table[@Name='goi_dich_vu' and @Schema='dbo']"
   },
   "outputs": [],
   "source": [
    "SET IDENTITY_INSERT [dbo].[goi_dich_vu] ON \n",
    "INSERT [dbo].[goi_dich_vu] ([id], [ten], [mo_ta], [gia], [thoi_han_ngay], [danh_cho]) VALUES (1, N'Gói cơ bản 1 tháng', N'Tư vấn 4 buổi video call / tháng', CAST(900000.00 AS Decimal(10, 2)), 30, N'nguoi_dung')\n",
    "SET IDENTITY_INSERT [dbo].[goi_dich_vu] OFF\n",
    "GO\n"
   ]
  },
  {
   "cell_type": "markdown",
   "metadata": {
    "object_type": "Table",
    "urn": "Server[@Name='DUYTRUONG']/Database[@Name='Final_IBODY']/Table[@Name='hinh_thuc_tu_van' and @Schema='dbo']"
   },
   "source": [
    "# [dbo].[hinh_thuc_tu_van]"
   ]
  },
  {
   "cell_type": "code",
   "execution_count": 0,
   "metadata": {
    "object_type": "Table",
    "urn": "Server[@Name='DUYTRUONG']/Database[@Name='Final_IBODY']/Table[@Name='hinh_thuc_tu_van' and @Schema='dbo']"
   },
   "outputs": [],
   "source": [
    "SET IDENTITY_INSERT [dbo].[hinh_thuc_tu_van] ON \n",
    "INSERT [dbo].[hinh_thuc_tu_van] ([id], [ten], [thoi_luong_phut], [gia_co_ban]) VALUES (1, N'chat', 30, CAST(150000.00 AS Decimal(10, 2)))\n",
    "INSERT [dbo].[hinh_thuc_tu_van] ([id], [ten], [thoi_luong_phut], [gia_co_ban]) VALUES (2, N'video', 45, CAST(250000.00 AS Decimal(10, 2)))\n",
    "SET IDENTITY_INSERT [dbo].[hinh_thuc_tu_van] OFF\n",
    "GO\n"
   ]
  },
  {
   "cell_type": "markdown",
   "metadata": {
    "object_type": "Table",
    "urn": "Server[@Name='DUYTRUONG']/Database[@Name='Final_IBODY']/Table[@Name='hoa_don' and @Schema='dbo']"
   },
   "source": [
    "# [dbo].[hoa_don]"
   ]
  },
  {
   "cell_type": "code",
   "execution_count": 0,
   "metadata": {
    "object_type": "Table",
    "urn": "Server[@Name='DUYTRUONG']/Database[@Name='Final_IBODY']/Table[@Name='hoa_don' and @Schema='dbo']"
   },
   "outputs": [],
   "source": [
    "SET IDENTITY_INSERT [dbo].[hoa_don] ON \n",
    "INSERT [dbo].[hoa_don] ([id], [tai_khoan_id], [goi_dich_vu_id], [tong_tien], [thoi_gian_tao]) VALUES (7, 12, NULL, CAST(150000.00 AS Decimal(10, 2)), CAST(N'2025-04-28T01:27:38.487' AS DateTime))\n",
    "INSERT [dbo].[hoa_don] ([id], [tai_khoan_id], [goi_dich_vu_id], [tong_tien], [thoi_gian_tao]) VALUES (9, 12, NULL, CAST(250000.00 AS Decimal(10, 2)), CAST(N'2025-04-28T15:35:00.017' AS DateTime))\n",
    "INSERT [dbo].[hoa_don] ([id], [tai_khoan_id], [goi_dich_vu_id], [tong_tien], [thoi_gian_tao]) VALUES (10, 21, NULL, CAST(5000000.00 AS Decimal(10, 2)), CAST(N'2025-04-28T17:07:37.350' AS DateTime))\n",
    "SET IDENTITY_INSERT [dbo].[hoa_don] OFF\n",
    "GO\n"
   ]
  },
  {
   "cell_type": "markdown",
   "metadata": {
    "object_type": "Table",
    "urn": "Server[@Name='DUYTRUONG']/Database[@Name='Final_IBODY']/Table[@Name='lich_hen' and @Schema='dbo']"
   },
   "source": [
    "# [dbo].[lich_hen]"
   ]
  },
  {
   "cell_type": "code",
   "execution_count": 0,
   "metadata": {
    "object_type": "Table",
    "urn": "Server[@Name='DUYTRUONG']/Database[@Name='Final_IBODY']/Table[@Name='lich_hen' and @Schema='dbo']"
   },
   "outputs": [],
   "source": [
    "SET IDENTITY_INSERT [dbo].[lich_hen] ON \n",
    "INSERT [dbo].[lich_hen] ([id], [nguoi_dung_id], [chuyen_gia_id], [hinh_thuc_id], [thoi_gian_bat_dau], [thoi_gian_ket_thuc], [tom_tat], [trang_thai]) VALUES (17, 3, 7, 2, CAST(N'2025-04-28T15:16:00.000' AS DateTime), CAST(N'2025-04-28T15:45:00.000' AS DateTime), N'newTest', N'da_thanh_toan')\n",
    "INSERT [dbo].[lich_hen] ([id], [nguoi_dung_id], [chuyen_gia_id], [hinh_thuc_id], [thoi_gian_bat_dau], [thoi_gian_ket_thuc], [tom_tat], [trang_thai]) VALUES (18, 9, 7, 1, CAST(N'2025-04-28T17:08:00.000' AS DateTime), CAST(N'2025-04-28T17:10:00.000' AS DateTime), N'tư vấn cho Quyến', N'da_thanh_toan')\n",
    "SET IDENTITY_INSERT [dbo].[lich_hen] OFF\n",
    "GO\n"
   ]
  },
  {
   "cell_type": "markdown",
   "metadata": {
    "object_type": "Table",
    "urn": "Server[@Name='DUYTRUONG']/Database[@Name='Final_IBODY']/Table[@Name='nguoi_dung' and @Schema='dbo']"
   },
   "source": [
    "# [dbo].[nguoi_dung]"
   ]
  },
  {
   "cell_type": "code",
   "execution_count": 0,
   "metadata": {
    "object_type": "Table",
    "urn": "Server[@Name='DUYTRUONG']/Database[@Name='Final_IBODY']/Table[@Name='nguoi_dung' and @Schema='dbo']"
   },
   "outputs": [],
   "source": [
    "SET IDENTITY_INSERT [dbo].[nguoi_dung] ON \n",
    "INSERT [dbo].[nguoi_dung] ([id], [tai_khoan_id], [ho_ten], [ngay_sinh], [gioi_tinh], [muc_tieu_tam_ly]) VALUES (3, 12, N'Tôn Duy Trường', CAST(N'2004-05-06' AS Date), N'nam', N'Tư vấn tâm lý học đường')\n",
    "INSERT [dbo].[nguoi_dung] ([id], [tai_khoan_id], [ho_ten], [ngay_sinh], [gioi_tinh], [muc_tieu_tam_ly]) VALUES (9, 21, N'quyến', NULL, NULL, NULL)\n",
    "SET IDENTITY_INSERT [dbo].[nguoi_dung] OFF\n",
    "GO\n"
   ]
  },
  {
   "cell_type": "markdown",
   "metadata": {
    "object_type": "Table",
    "urn": "Server[@Name='DUYTRUONG']/Database[@Name='Final_IBODY']/Table[@Name='phuong_thuc_chung' and @Schema='dbo']"
   },
   "source": [
    "# [dbo].[phuong_thuc_chung]"
   ]
  },
  {
   "cell_type": "code",
   "execution_count": 0,
   "metadata": {
    "object_type": "Table",
    "urn": "Server[@Name='DUYTRUONG']/Database[@Name='Final_IBODY']/Table[@Name='phuong_thuc_chung' and @Schema='dbo']"
   },
   "outputs": [],
   "source": [
    "SET IDENTITY_INSERT [dbo].[phuong_thuc_chung] ON \n",
    "INSERT [dbo].[phuong_thuc_chung] ([id], [ten], [mo_ta], [trang_thai]) VALUES (1, N'Momo', N'Ví Điện Tử', N'hien')\n",
    "INSERT [dbo].[phuong_thuc_chung] ([id], [ten], [mo_ta], [trang_thai]) VALUES (2, N'ZaloPay', N'Ví Điện Tử', N'hien')\n",
    "SET IDENTITY_INSERT [dbo].[phuong_thuc_chung] OFF\n",
    "GO\n"
   ]
  },
  {
   "cell_type": "markdown",
   "metadata": {
    "object_type": "Table",
    "urn": "Server[@Name='DUYTRUONG']/Database[@Name='Final_IBODY']/Table[@Name='tai_khoan' and @Schema='dbo']"
   },
   "source": [
    "# [dbo].[tai_khoan]"
   ]
  },
  {
   "cell_type": "code",
   "execution_count": 0,
   "metadata": {
    "object_type": "Table",
    "urn": "Server[@Name='DUYTRUONG']/Database[@Name='Final_IBODY']/Table[@Name='tai_khoan' and @Schema='dbo']"
   },
   "outputs": [],
   "source": [
    "SET IDENTITY_INSERT [dbo].[tai_khoan] ON \n",
    "INSERT [dbo].[tai_khoan] ([id], [email], [mat_khau], [vai_tro], [trang_thai]) VALUES (12, N'duytruongk22@gmail.com', N'hashed_by_identity', N'nguoi_dung', N'hoat_dong')\n",
    "INSERT [dbo].[tai_khoan] ([id], [email], [mat_khau], [vai_tro], [trang_thai]) VALUES (15, N'admin@123.com', N'hashed_by_identity', N'quan_tri', N'hoat_dong')\n",
    "INSERT [dbo].[tai_khoan] ([id], [email], [mat_khau], [vai_tro], [trang_thai]) VALUES (18, N'alice@gmail.com', N'hashed_by_identity', N'chuyen_gia', N'hoat_dong')\n",
    "INSERT [dbo].[tai_khoan] ([id], [email], [mat_khau], [vai_tro], [trang_thai]) VALUES (20, N'quang@gmail.com', N'hashed_by_identity', N'chuyen_gia', N'hoat_dong')\n",
    "INSERT [dbo].[tai_khoan] ([id], [email], [mat_khau], [vai_tro], [trang_thai]) VALUES (21, N'quyen@gmail.com', N'hashed_by_identity', N'nguoi_dung', N'hoat_dong')\n",
    "SET IDENTITY_INSERT [dbo].[tai_khoan] OFF\n",
    "GO\n"
   ]
  },
  {
   "cell_type": "markdown",
   "metadata": {
    "object_type": "Index",
    "urn": "Server[@Name='DUYTRUONG']/Database[@Name='Final_IBODY']/Table[@Name='phuong_thuc_chung' and @Schema='dbo']/Index[@Name='UQ__phuong_t__DC107AB1F0C16E62']"
   },
   "source": [
    "# [UQ__phuong_t__DC107AB1F0C16E62]"
   ]
  },
  {
   "cell_type": "code",
   "execution_count": 0,
   "metadata": {
    "object_type": "Index",
    "urn": "Server[@Name='DUYTRUONG']/Database[@Name='Final_IBODY']/Table[@Name='phuong_thuc_chung' and @Schema='dbo']/Index[@Name='UQ__phuong_t__DC107AB1F0C16E62']"
   },
   "outputs": [],
   "source": [
    "SET ANSI_PADDING ON\n",
    "GO\n",
    "/****** Object:  Index [UQ__phuong_t__DC107AB1F0C16E62]    Script Date: 4/28/2025 11:31:13 PM ******/\n",
    "ALTER TABLE [dbo].[phuong_thuc_chung] ADD UNIQUE NONCLUSTERED \n",
    "(\n",
    "\t[ten] ASC\n",
    ")WITH (PAD_INDEX = OFF, STATISTICS_NORECOMPUTE = OFF, SORT_IN_TEMPDB = OFF, IGNORE_DUP_KEY = OFF, ONLINE = OFF, ALLOW_ROW_LOCKS = ON, ALLOW_PAGE_LOCKS = ON, OPTIMIZE_FOR_SEQUENTIAL_KEY = OFF) ON [PRIMARY]\n",
    "GO\n"
   ]
  },
  {
   "cell_type": "markdown",
   "metadata": {
    "object_type": "Index",
    "urn": "Server[@Name='DUYTRUONG']/Database[@Name='Final_IBODY']/Table[@Name='phuong_thuc_nguoi_dung' and @Schema='dbo']/Index[@Name='UQ__phuong_t__FFAAD5A0994770B4']"
   },
   "source": [
    "# [UQ__phuong_t__FFAAD5A0994770B4]"
   ]
  },
  {
   "cell_type": "code",
   "execution_count": 0,
   "metadata": {
    "object_type": "Index",
    "urn": "Server[@Name='DUYTRUONG']/Database[@Name='Final_IBODY']/Table[@Name='phuong_thuc_nguoi_dung' and @Schema='dbo']/Index[@Name='UQ__phuong_t__FFAAD5A0994770B4']"
   },
   "outputs": [],
   "source": [
    "/****** Object:  Index [UQ__phuong_t__FFAAD5A0994770B4]    Script Date: 4/28/2025 11:31:13 PM ******/\n",
    "ALTER TABLE [dbo].[phuong_thuc_nguoi_dung] ADD UNIQUE NONCLUSTERED \n",
    "(\n",
    "\t[tai_khoan_id] ASC,\n",
    "\t[phuong_thuc_id] ASC\n",
    ")WITH (PAD_INDEX = OFF, STATISTICS_NORECOMPUTE = OFF, SORT_IN_TEMPDB = OFF, IGNORE_DUP_KEY = OFF, ONLINE = OFF, ALLOW_ROW_LOCKS = ON, ALLOW_PAGE_LOCKS = ON, OPTIMIZE_FOR_SEQUENTIAL_KEY = OFF) ON [PRIMARY]\n",
    "GO\n"
   ]
  },
  {
   "cell_type": "markdown",
   "metadata": {
    "object_type": "Index",
    "urn": "Server[@Name='DUYTRUONG']/Database[@Name='Final_IBODY']/Table[@Name='tai_khoan' and @Schema='dbo']/Index[@Name='UQ__tai_khoa__AB6E6164DF8A630F']"
   },
   "source": [
    "# [UQ__tai_khoa__AB6E6164DF8A630F]"
   ]
  },
  {
   "cell_type": "code",
   "execution_count": 0,
   "metadata": {
    "object_type": "Index",
    "urn": "Server[@Name='DUYTRUONG']/Database[@Name='Final_IBODY']/Table[@Name='tai_khoan' and @Schema='dbo']/Index[@Name='UQ__tai_khoa__AB6E6164DF8A630F']"
   },
   "outputs": [],
   "source": [
    "SET ANSI_PADDING ON\n",
    "GO\n",
    "/****** Object:  Index [UQ__tai_khoa__AB6E6164DF8A630F]    Script Date: 4/28/2025 11:31:13 PM ******/\n",
    "ALTER TABLE [dbo].[tai_khoan] ADD UNIQUE NONCLUSTERED \n",
    "(\n",
    "\t[email] ASC\n",
    ")WITH (PAD_INDEX = OFF, STATISTICS_NORECOMPUTE = OFF, SORT_IN_TEMPDB = OFF, IGNORE_DUP_KEY = OFF, ONLINE = OFF, ALLOW_ROW_LOCKS = ON, ALLOW_PAGE_LOCKS = ON, OPTIMIZE_FOR_SEQUENTIAL_KEY = OFF) ON [PRIMARY]\n",
    "GO\n"
   ]
  },
  {
   "cell_type": "markdown",
   "metadata": {
    "object_type": "Default",
    "urn": "Server[@Name='DUYTRUONG']/Database[@Name='Final_IBODY']/Table[@Name='lich_hen' and @Schema='dbo']/Column[@Name='trang_thai']/Default[@Name='DF__lich_hen__trang___245D67DE']"
   },
   "source": [
    "# [DF__lich_hen__trang___245D67DE]"
   ]
  },
  {
   "cell_type": "code",
   "execution_count": 0,
   "metadata": {
    "object_type": "Default",
    "urn": "Server[@Name='DUYTRUONG']/Database[@Name='Final_IBODY']/Table[@Name='lich_hen' and @Schema='dbo']/Column[@Name='trang_thai']/Default[@Name='DF__lich_hen__trang___245D67DE']"
   },
   "outputs": [],
   "source": [
    "ALTER TABLE [dbo].[lich_hen] ADD  DEFAULT ('cho_thanh_toan') FOR [trang_thai]\n",
    "GO\n"
   ]
  },
  {
   "cell_type": "markdown",
   "metadata": {
    "object_type": "Default",
    "urn": "Server[@Name='DUYTRUONG']/Database[@Name='Final_IBODY']/Table[@Name='phuong_thuc_chung' and @Schema='dbo']/Column[@Name='trang_thai']/Default[@Name='DF__phuong_th__trang__123EB7A3']"
   },
   "source": [
    "# [DF__phuong_th__trang__123EB7A3]"
   ]
  },
  {
   "cell_type": "code",
   "execution_count": 0,
   "metadata": {
    "object_type": "Default",
    "urn": "Server[@Name='DUYTRUONG']/Database[@Name='Final_IBODY']/Table[@Name='phuong_thuc_chung' and @Schema='dbo']/Column[@Name='trang_thai']/Default[@Name='DF__phuong_th__trang__123EB7A3']"
   },
   "outputs": [],
   "source": [
    "ALTER TABLE [dbo].[phuong_thuc_chung] ADD  DEFAULT ('hien') FOR [trang_thai]\n",
    "GO\n"
   ]
  },
  {
   "cell_type": "markdown",
   "metadata": {
    "object_type": "Default",
    "urn": "Server[@Name='DUYTRUONG']/Database[@Name='Final_IBODY']/Table[@Name='phuong_thuc_nguoi_dung' and @Schema='dbo']/Column[@Name='da_xac_thuc']/Default[@Name='DF__phuong_th__da_xa__17F790F9']"
   },
   "source": [
    "# [DF__phuong_th__da_xa__17F790F9]"
   ]
  },
  {
   "cell_type": "code",
   "execution_count": 0,
   "metadata": {
    "object_type": "Default",
    "urn": "Server[@Name='DUYTRUONG']/Database[@Name='Final_IBODY']/Table[@Name='phuong_thuc_nguoi_dung' and @Schema='dbo']/Column[@Name='da_xac_thuc']/Default[@Name='DF__phuong_th__da_xa__17F790F9']"
   },
   "outputs": [],
   "source": [
    "ALTER TABLE [dbo].[phuong_thuc_nguoi_dung] ADD  DEFAULT ((0)) FOR [da_xac_thuc]\n",
    "GO\n"
   ]
  },
  {
   "cell_type": "markdown",
   "metadata": {
    "object_type": "Default",
    "urn": "Server[@Name='DUYTRUONG']/Database[@Name='Final_IBODY']/Table[@Name='phuong_thuc_nguoi_dung' and @Schema='dbo']/Column[@Name='ngay_tao']/Default[@Name='DF__phuong_th__ngay___18EBB532']"
   },
   "source": [
    "# [DF__phuong_th__ngay___18EBB532]"
   ]
  },
  {
   "cell_type": "code",
   "execution_count": 0,
   "metadata": {
    "object_type": "Default",
    "urn": "Server[@Name='DUYTRUONG']/Database[@Name='Final_IBODY']/Table[@Name='phuong_thuc_nguoi_dung' and @Schema='dbo']/Column[@Name='ngay_tao']/Default[@Name='DF__phuong_th__ngay___18EBB532']"
   },
   "outputs": [],
   "source": [
    "ALTER TABLE [dbo].[phuong_thuc_nguoi_dung] ADD  DEFAULT (getdate()) FOR [ngay_tao]\n",
    "GO\n"
   ]
  },
  {
   "cell_type": "markdown",
   "metadata": {
    "object_type": "ForeignKey",
    "urn": "Server[@Name='DUYTRUONG']/Database[@Name='Final_IBODY']/Table[@Name='AspNetRoleClaims' and @Schema='dbo']/ForeignKey[@Name='FK_AspNetRoleClaims_AspNetRoles_RoleId']"
   },
   "source": [
    "# [FK_AspNetRoleClaims_AspNetRoles_RoleId]"
   ]
  },
  {
   "cell_type": "code",
   "execution_count": 0,
   "metadata": {
    "object_type": "ForeignKey",
    "urn": "Server[@Name='DUYTRUONG']/Database[@Name='Final_IBODY']/Table[@Name='AspNetRoleClaims' and @Schema='dbo']/ForeignKey[@Name='FK_AspNetRoleClaims_AspNetRoles_RoleId']"
   },
   "outputs": [],
   "source": [
    "ALTER TABLE [dbo].[AspNetRoleClaims]  WITH CHECK ADD  CONSTRAINT [FK_AspNetRoleClaims_AspNetRoles_RoleId] FOREIGN KEY([RoleId])\n",
    "REFERENCES [dbo].[AspNetRoles] ([Id])\n",
    "ON DELETE CASCADE\n",
    "GO\n",
    "ALTER TABLE [dbo].[AspNetRoleClaims] CHECK CONSTRAINT [FK_AspNetRoleClaims_AspNetRoles_RoleId]\n",
    "GO\n"
   ]
  },
  {
   "cell_type": "markdown",
   "metadata": {
    "object_type": "ForeignKey",
    "urn": "Server[@Name='DUYTRUONG']/Database[@Name='Final_IBODY']/Table[@Name='AspNetUserClaims' and @Schema='dbo']/ForeignKey[@Name='FK_AspNetUserClaims_AspNetUsers_UserId']"
   },
   "source": [
    "# [FK_AspNetUserClaims_AspNetUsers_UserId]"
   ]
  },
  {
   "cell_type": "code",
   "execution_count": 0,
   "metadata": {
    "object_type": "ForeignKey",
    "urn": "Server[@Name='DUYTRUONG']/Database[@Name='Final_IBODY']/Table[@Name='AspNetUserClaims' and @Schema='dbo']/ForeignKey[@Name='FK_AspNetUserClaims_AspNetUsers_UserId']"
   },
   "outputs": [],
   "source": [
    "ALTER TABLE [dbo].[AspNetUserClaims]  WITH CHECK ADD  CONSTRAINT [FK_AspNetUserClaims_AspNetUsers_UserId] FOREIGN KEY([UserId])\n",
    "REFERENCES [dbo].[AspNetUsers] ([Id])\n",
    "ON DELETE CASCADE\n",
    "GO\n",
    "ALTER TABLE [dbo].[AspNetUserClaims] CHECK CONSTRAINT [FK_AspNetUserClaims_AspNetUsers_UserId]\n",
    "GO\n"
   ]
  },
  {
   "cell_type": "markdown",
   "metadata": {
    "object_type": "ForeignKey",
    "urn": "Server[@Name='DUYTRUONG']/Database[@Name='Final_IBODY']/Table[@Name='AspNetUserLogins' and @Schema='dbo']/ForeignKey[@Name='FK_AspNetUserLogins_AspNetUsers_UserId']"
   },
   "source": [
    "# [FK_AspNetUserLogins_AspNetUsers_UserId]"
   ]
  },
  {
   "cell_type": "code",
   "execution_count": 0,
   "metadata": {
    "object_type": "ForeignKey",
    "urn": "Server[@Name='DUYTRUONG']/Database[@Name='Final_IBODY']/Table[@Name='AspNetUserLogins' and @Schema='dbo']/ForeignKey[@Name='FK_AspNetUserLogins_AspNetUsers_UserId']"
   },
   "outputs": [],
   "source": [
    "ALTER TABLE [dbo].[AspNetUserLogins]  WITH CHECK ADD  CONSTRAINT [FK_AspNetUserLogins_AspNetUsers_UserId] FOREIGN KEY([UserId])\n",
    "REFERENCES [dbo].[AspNetUsers] ([Id])\n",
    "ON DELETE CASCADE\n",
    "GO\n",
    "ALTER TABLE [dbo].[AspNetUserLogins] CHECK CONSTRAINT [FK_AspNetUserLogins_AspNetUsers_UserId]\n",
    "GO\n"
   ]
  },
  {
   "cell_type": "markdown",
   "metadata": {
    "object_type": "ForeignKey",
    "urn": "Server[@Name='DUYTRUONG']/Database[@Name='Final_IBODY']/Table[@Name='AspNetUserRoles' and @Schema='dbo']/ForeignKey[@Name='FK_AspNetUserRoles_AspNetRoles_RoleId']"
   },
   "source": [
    "# [FK_AspNetUserRoles_AspNetRoles_RoleId]"
   ]
  },
  {
   "cell_type": "code",
   "execution_count": 0,
   "metadata": {
    "object_type": "ForeignKey",
    "urn": "Server[@Name='DUYTRUONG']/Database[@Name='Final_IBODY']/Table[@Name='AspNetUserRoles' and @Schema='dbo']/ForeignKey[@Name='FK_AspNetUserRoles_AspNetRoles_RoleId']"
   },
   "outputs": [],
   "source": [
    "ALTER TABLE [dbo].[AspNetUserRoles]  WITH CHECK ADD  CONSTRAINT [FK_AspNetUserRoles_AspNetRoles_RoleId] FOREIGN KEY([RoleId])\n",
    "REFERENCES [dbo].[AspNetRoles] ([Id])\n",
    "ON DELETE CASCADE\n",
    "GO\n",
    "ALTER TABLE [dbo].[AspNetUserRoles] CHECK CONSTRAINT [FK_AspNetUserRoles_AspNetRoles_RoleId]\n",
    "GO\n"
   ]
  },
  {
   "cell_type": "markdown",
   "metadata": {
    "object_type": "ForeignKey",
    "urn": "Server[@Name='DUYTRUONG']/Database[@Name='Final_IBODY']/Table[@Name='AspNetUserRoles' and @Schema='dbo']/ForeignKey[@Name='FK_AspNetUserRoles_AspNetUsers_UserId']"
   },
   "source": [
    "# [FK_AspNetUserRoles_AspNetUsers_UserId]"
   ]
  },
  {
   "cell_type": "code",
   "execution_count": 0,
   "metadata": {
    "object_type": "ForeignKey",
    "urn": "Server[@Name='DUYTRUONG']/Database[@Name='Final_IBODY']/Table[@Name='AspNetUserRoles' and @Schema='dbo']/ForeignKey[@Name='FK_AspNetUserRoles_AspNetUsers_UserId']"
   },
   "outputs": [],
   "source": [
    "ALTER TABLE [dbo].[AspNetUserRoles]  WITH CHECK ADD  CONSTRAINT [FK_AspNetUserRoles_AspNetUsers_UserId] FOREIGN KEY([UserId])\n",
    "REFERENCES [dbo].[AspNetUsers] ([Id])\n",
    "ON DELETE CASCADE\n",
    "GO\n",
    "ALTER TABLE [dbo].[AspNetUserRoles] CHECK CONSTRAINT [FK_AspNetUserRoles_AspNetUsers_UserId]\n",
    "GO\n"
   ]
  },
  {
   "cell_type": "markdown",
   "metadata": {
    "object_type": "ForeignKey",
    "urn": "Server[@Name='DUYTRUONG']/Database[@Name='Final_IBODY']/Table[@Name='AspNetUserTokens' and @Schema='dbo']/ForeignKey[@Name='FK_AspNetUserTokens_AspNetUsers_UserId']"
   },
   "source": [
    "# [FK_AspNetUserTokens_AspNetUsers_UserId]"
   ]
  },
  {
   "cell_type": "code",
   "execution_count": 0,
   "metadata": {
    "object_type": "ForeignKey",
    "urn": "Server[@Name='DUYTRUONG']/Database[@Name='Final_IBODY']/Table[@Name='AspNetUserTokens' and @Schema='dbo']/ForeignKey[@Name='FK_AspNetUserTokens_AspNetUsers_UserId']"
   },
   "outputs": [],
   "source": [
    "ALTER TABLE [dbo].[AspNetUserTokens]  WITH CHECK ADD  CONSTRAINT [FK_AspNetUserTokens_AspNetUsers_UserId] FOREIGN KEY([UserId])\n",
    "REFERENCES [dbo].[AspNetUsers] ([Id])\n",
    "ON DELETE CASCADE\n",
    "GO\n",
    "ALTER TABLE [dbo].[AspNetUserTokens] CHECK CONSTRAINT [FK_AspNetUserTokens_AspNetUsers_UserId]\n",
    "GO\n"
   ]
  },
  {
   "cell_type": "markdown",
   "metadata": {
    "object_type": "ForeignKey",
    "urn": "Server[@Name='DUYTRUONG']/Database[@Name='Final_IBODY']/Table[@Name='bao_cao_vi_pham' and @Schema='dbo']/ForeignKey[@Name='FK__bao_cao_v__nguoi__71D1E811']"
   },
   "source": [
    "# [FK__bao_cao_v__nguoi__71D1E811]"
   ]
  },
  {
   "cell_type": "code",
   "execution_count": 0,
   "metadata": {
    "object_type": "ForeignKey",
    "urn": "Server[@Name='DUYTRUONG']/Database[@Name='Final_IBODY']/Table[@Name='bao_cao_vi_pham' and @Schema='dbo']/ForeignKey[@Name='FK__bao_cao_v__nguoi__71D1E811']"
   },
   "outputs": [],
   "source": [
    "ALTER TABLE [dbo].[bao_cao_vi_pham]  WITH CHECK ADD FOREIGN KEY([nguoi_bao_cao_id])\n",
    "REFERENCES [dbo].[tai_khoan] ([id])\n",
    "GO\n"
   ]
  },
  {
   "cell_type": "markdown",
   "metadata": {
    "object_type": "ForeignKey",
    "urn": "Server[@Name='DUYTRUONG']/Database[@Name='Final_IBODY']/Table[@Name='binh_luan' and @Schema='dbo']/ForeignKey[@Name='FK__binh_luan__nguoi__5812160E']"
   },
   "source": [
    "# [FK__binh_luan__nguoi__5812160E]"
   ]
  },
  {
   "cell_type": "code",
   "execution_count": 0,
   "metadata": {
    "object_type": "ForeignKey",
    "urn": "Server[@Name='DUYTRUONG']/Database[@Name='Final_IBODY']/Table[@Name='binh_luan' and @Schema='dbo']/ForeignKey[@Name='FK__binh_luan__nguoi__5812160E']"
   },
   "outputs": [],
   "source": [
    "ALTER TABLE [dbo].[binh_luan]  WITH CHECK ADD FOREIGN KEY([nguoi_binh_luan_id])\n",
    "REFERENCES [dbo].[tai_khoan] ([id])\n",
    "GO\n"
   ]
  },
  {
   "cell_type": "markdown",
   "metadata": {
    "object_type": "ForeignKey",
    "urn": "Server[@Name='DUYTRUONG']/Database[@Name='Final_IBODY']/Table[@Name='chuyen_gia' and @Schema='dbo']/ForeignKey[@Name='FK__chuyen_gi__tai_k__403A8C7D']"
   },
   "source": [
    "# [FK__chuyen_gi__tai_k__403A8C7D]"
   ]
  },
  {
   "cell_type": "code",
   "execution_count": 0,
   "metadata": {
    "object_type": "ForeignKey",
    "urn": "Server[@Name='DUYTRUONG']/Database[@Name='Final_IBODY']/Table[@Name='chuyen_gia' and @Schema='dbo']/ForeignKey[@Name='FK__chuyen_gi__tai_k__403A8C7D']"
   },
   "outputs": [],
   "source": [
    "ALTER TABLE [dbo].[chuyen_gia]  WITH CHECK ADD FOREIGN KEY([tai_khoan_id])\n",
    "REFERENCES [dbo].[tai_khoan] ([id])\n",
    "GO\n"
   ]
  },
  {
   "cell_type": "markdown",
   "metadata": {
    "object_type": "ForeignKey",
    "urn": "Server[@Name='DUYTRUONG']/Database[@Name='Final_IBODY']/Table[@Name='danh_gia' and @Schema='dbo']/ForeignKey[@Name='FK__danh_gia__chuyen__5441852A']"
   },
   "source": [
    "# [FK__danh_gia__chuyen__5441852A]"
   ]
  },
  {
   "cell_type": "code",
   "execution_count": 0,
   "metadata": {
    "object_type": "ForeignKey",
    "urn": "Server[@Name='DUYTRUONG']/Database[@Name='Final_IBODY']/Table[@Name='danh_gia' and @Schema='dbo']/ForeignKey[@Name='FK__danh_gia__chuyen__5441852A']"
   },
   "outputs": [],
   "source": [
    "ALTER TABLE [dbo].[danh_gia]  WITH CHECK ADD FOREIGN KEY([chuyen_gia_id])\n",
    "REFERENCES [dbo].[chuyen_gia] ([id])\n",
    "GO\n"
   ]
  },
  {
   "cell_type": "markdown",
   "metadata": {
    "object_type": "ForeignKey",
    "urn": "Server[@Name='DUYTRUONG']/Database[@Name='Final_IBODY']/Table[@Name='danh_gia' and @Schema='dbo']/ForeignKey[@Name='FK__danh_gia__lich_h__52593CB8']"
   },
   "source": [
    "# [FK__danh_gia__lich_h__52593CB8]"
   ]
  },
  {
   "cell_type": "code",
   "execution_count": 0,
   "metadata": {
    "object_type": "ForeignKey",
    "urn": "Server[@Name='DUYTRUONG']/Database[@Name='Final_IBODY']/Table[@Name='danh_gia' and @Schema='dbo']/ForeignKey[@Name='FK__danh_gia__lich_h__52593CB8']"
   },
   "outputs": [],
   "source": [
    "ALTER TABLE [dbo].[danh_gia]  WITH CHECK ADD FOREIGN KEY([lich_hen_id])\n",
    "REFERENCES [dbo].[lich_hen] ([id])\n",
    "GO\n"
   ]
  },
  {
   "cell_type": "markdown",
   "metadata": {
    "object_type": "ForeignKey",
    "urn": "Server[@Name='DUYTRUONG']/Database[@Name='Final_IBODY']/Table[@Name='danh_gia' and @Schema='dbo']/ForeignKey[@Name='FK__danh_gia__nguoi___534D60F1']"
   },
   "source": [
    "# [FK__danh_gia__nguoi___534D60F1]"
   ]
  },
  {
   "cell_type": "code",
   "execution_count": 0,
   "metadata": {
    "object_type": "ForeignKey",
    "urn": "Server[@Name='DUYTRUONG']/Database[@Name='Final_IBODY']/Table[@Name='danh_gia' and @Schema='dbo']/ForeignKey[@Name='FK__danh_gia__nguoi___534D60F1']"
   },
   "outputs": [],
   "source": [
    "ALTER TABLE [dbo].[danh_gia]  WITH CHECK ADD FOREIGN KEY([nguoi_dung_id])\n",
    "REFERENCES [dbo].[nguoi_dung] ([id])\n",
    "GO\n"
   ]
  },
  {
   "cell_type": "markdown",
   "metadata": {
    "object_type": "ForeignKey",
    "urn": "Server[@Name='DUYTRUONG']/Database[@Name='Final_IBODY']/Table[@Name='giao_dich' and @Schema='dbo']/ForeignKey[@Name='FK__giao_dich__hoa_d__6E01572D']"
   },
   "source": [
    "# [FK__giao_dich__hoa_d__6E01572D]"
   ]
  },
  {
   "cell_type": "code",
   "execution_count": 0,
   "metadata": {
    "object_type": "ForeignKey",
    "urn": "Server[@Name='DUYTRUONG']/Database[@Name='Final_IBODY']/Table[@Name='giao_dich' and @Schema='dbo']/ForeignKey[@Name='FK__giao_dich__hoa_d__6E01572D']"
   },
   "outputs": [],
   "source": [
    "ALTER TABLE [dbo].[giao_dich]  WITH CHECK ADD FOREIGN KEY([hoa_don_id])\n",
    "REFERENCES [dbo].[hoa_don] ([id])\n",
    "GO\n"
   ]
  },
  {
   "cell_type": "markdown",
   "metadata": {
    "object_type": "ForeignKey",
    "urn": "Server[@Name='DUYTRUONG']/Database[@Name='Final_IBODY']/Table[@Name='giao_dich' and @Schema='dbo']/ForeignKey[@Name='FK_giao_dich_phuong_thuc_chung']"
   },
   "source": [
    "# [FK_giao_dich_phuong_thuc_chung]"
   ]
  },
  {
   "cell_type": "code",
   "execution_count": 0,
   "metadata": {
    "object_type": "ForeignKey",
    "urn": "Server[@Name='DUYTRUONG']/Database[@Name='Final_IBODY']/Table[@Name='giao_dich' and @Schema='dbo']/ForeignKey[@Name='FK_giao_dich_phuong_thuc_chung']"
   },
   "outputs": [],
   "source": [
    "ALTER TABLE [dbo].[giao_dich]  WITH CHECK ADD  CONSTRAINT [FK_giao_dich_phuong_thuc_chung] FOREIGN KEY([phuong_thuc_id])\n",
    "REFERENCES [dbo].[phuong_thuc_chung] ([id])\n",
    "GO\n",
    "ALTER TABLE [dbo].[giao_dich] CHECK CONSTRAINT [FK_giao_dich_phuong_thuc_chung]\n",
    "GO\n"
   ]
  },
  {
   "cell_type": "markdown",
   "metadata": {
    "object_type": "ForeignKey",
    "urn": "Server[@Name='DUYTRUONG']/Database[@Name='Final_IBODY']/Table[@Name='hoa_don' and @Schema='dbo']/ForeignKey[@Name='FK__hoa_don__goi_dic__6754599E']"
   },
   "source": [
    "# [FK__hoa_don__goi_dic__6754599E]"
   ]
  },
  {
   "cell_type": "code",
   "execution_count": 0,
   "metadata": {
    "object_type": "ForeignKey",
    "urn": "Server[@Name='DUYTRUONG']/Database[@Name='Final_IBODY']/Table[@Name='hoa_don' and @Schema='dbo']/ForeignKey[@Name='FK__hoa_don__goi_dic__6754599E']"
   },
   "outputs": [],
   "source": [
    "ALTER TABLE [dbo].[hoa_don]  WITH CHECK ADD FOREIGN KEY([goi_dich_vu_id])\n",
    "REFERENCES [dbo].[goi_dich_vu] ([id])\n",
    "GO\n"
   ]
  },
  {
   "cell_type": "markdown",
   "metadata": {
    "object_type": "ForeignKey",
    "urn": "Server[@Name='DUYTRUONG']/Database[@Name='Final_IBODY']/Table[@Name='hoa_don' and @Schema='dbo']/ForeignKey[@Name='FK__hoa_don__tai_kho__66603565']"
   },
   "source": [
    "# [FK__hoa_don__tai_kho__66603565]"
   ]
  },
  {
   "cell_type": "code",
   "execution_count": 0,
   "metadata": {
    "object_type": "ForeignKey",
    "urn": "Server[@Name='DUYTRUONG']/Database[@Name='Final_IBODY']/Table[@Name='hoa_don' and @Schema='dbo']/ForeignKey[@Name='FK__hoa_don__tai_kho__66603565']"
   },
   "outputs": [],
   "source": [
    "ALTER TABLE [dbo].[hoa_don]  WITH CHECK ADD FOREIGN KEY([tai_khoan_id])\n",
    "REFERENCES [dbo].[tai_khoan] ([id])\n",
    "GO\n"
   ]
  },
  {
   "cell_type": "markdown",
   "metadata": {
    "object_type": "ForeignKey",
    "urn": "Server[@Name='DUYTRUONG']/Database[@Name='Final_IBODY']/Table[@Name='hoc_van_chuyen_gia' and @Schema='dbo']/ForeignKey[@Name='FK__hoc_van_c__chuye__440B1D61']"
   },
   "source": [
    "# [FK__hoc_van_c__chuye__440B1D61]"
   ]
  },
  {
   "cell_type": "code",
   "execution_count": 0,
   "metadata": {
    "object_type": "ForeignKey",
    "urn": "Server[@Name='DUYTRUONG']/Database[@Name='Final_IBODY']/Table[@Name='hoc_van_chuyen_gia' and @Schema='dbo']/ForeignKey[@Name='FK__hoc_van_c__chuye__440B1D61']"
   },
   "outputs": [],
   "source": [
    "ALTER TABLE [dbo].[hoc_van_chuyen_gia]  WITH CHECK ADD FOREIGN KEY([chuyen_gia_id])\n",
    "REFERENCES [dbo].[chuyen_gia] ([id])\n",
    "GO\n"
   ]
  },
  {
   "cell_type": "markdown",
   "metadata": {
    "object_type": "ForeignKey",
    "urn": "Server[@Name='DUYTRUONG']/Database[@Name='Final_IBODY']/Table[@Name='lich_hen' and @Schema='dbo']/ForeignKey[@Name='FK__lich_hen__chuyen__4E88ABD4']"
   },
   "source": [
    "# [FK__lich_hen__chuyen__4E88ABD4]"
   ]
  },
  {
   "cell_type": "code",
   "execution_count": 0,
   "metadata": {
    "object_type": "ForeignKey",
    "urn": "Server[@Name='DUYTRUONG']/Database[@Name='Final_IBODY']/Table[@Name='lich_hen' and @Schema='dbo']/ForeignKey[@Name='FK__lich_hen__chuyen__4E88ABD4']"
   },
   "outputs": [],
   "source": [
    "ALTER TABLE [dbo].[lich_hen]  WITH CHECK ADD FOREIGN KEY([chuyen_gia_id])\n",
    "REFERENCES [dbo].[chuyen_gia] ([id])\n",
    "GO\n"
   ]
  },
  {
   "cell_type": "markdown",
   "metadata": {
    "object_type": "ForeignKey",
    "urn": "Server[@Name='DUYTRUONG']/Database[@Name='Final_IBODY']/Table[@Name='lich_hen' and @Schema='dbo']/ForeignKey[@Name='FK__lich_hen__hinh_t__4F7CD00D']"
   },
   "source": [
    "# [FK__lich_hen__hinh_t__4F7CD00D]"
   ]
  },
  {
   "cell_type": "code",
   "execution_count": 0,
   "metadata": {
    "object_type": "ForeignKey",
    "urn": "Server[@Name='DUYTRUONG']/Database[@Name='Final_IBODY']/Table[@Name='lich_hen' and @Schema='dbo']/ForeignKey[@Name='FK__lich_hen__hinh_t__4F7CD00D']"
   },
   "outputs": [],
   "source": [
    "ALTER TABLE [dbo].[lich_hen]  WITH CHECK ADD FOREIGN KEY([hinh_thuc_id])\n",
    "REFERENCES [dbo].[hinh_thuc_tu_van] ([id])\n",
    "GO\n"
   ]
  },
  {
   "cell_type": "markdown",
   "metadata": {
    "object_type": "ForeignKey",
    "urn": "Server[@Name='DUYTRUONG']/Database[@Name='Final_IBODY']/Table[@Name='lich_hen' and @Schema='dbo']/ForeignKey[@Name='FK__lich_hen__nguoi___4D94879B']"
   },
   "source": [
    "# [FK__lich_hen__nguoi___4D94879B]"
   ]
  },
  {
   "cell_type": "code",
   "execution_count": 0,
   "metadata": {
    "object_type": "ForeignKey",
    "urn": "Server[@Name='DUYTRUONG']/Database[@Name='Final_IBODY']/Table[@Name='lich_hen' and @Schema='dbo']/ForeignKey[@Name='FK__lich_hen__nguoi___4D94879B']"
   },
   "outputs": [],
   "source": [
    "ALTER TABLE [dbo].[lich_hen]  WITH CHECK ADD FOREIGN KEY([nguoi_dung_id])\n",
    "REFERENCES [dbo].[nguoi_dung] ([id])\n",
    "GO\n"
   ]
  },
  {
   "cell_type": "markdown",
   "metadata": {
    "object_type": "ForeignKey",
    "urn": "Server[@Name='DUYTRUONG']/Database[@Name='Final_IBODY']/Table[@Name='nguoi_dung' and @Schema='dbo']/ForeignKey[@Name='FK__nguoi_dun__tai_k__3C69FB99']"
   },
   "source": [
    "# [FK__nguoi_dun__tai_k__3C69FB99]"
   ]
  },
  {
   "cell_type": "code",
   "execution_count": 0,
   "metadata": {
    "object_type": "ForeignKey",
    "urn": "Server[@Name='DUYTRUONG']/Database[@Name='Final_IBODY']/Table[@Name='nguoi_dung' and @Schema='dbo']/ForeignKey[@Name='FK__nguoi_dun__tai_k__3C69FB99']"
   },
   "outputs": [],
   "source": [
    "ALTER TABLE [dbo].[nguoi_dung]  WITH CHECK ADD FOREIGN KEY([tai_khoan_id])\n",
    "REFERENCES [dbo].[tai_khoan] ([id])\n",
    "GO\n"
   ]
  },
  {
   "cell_type": "markdown",
   "metadata": {
    "object_type": "ForeignKey",
    "urn": "Server[@Name='DUYTRUONG']/Database[@Name='Final_IBODY']/Table[@Name='phuong_thuc_nguoi_dung' and @Schema='dbo']/ForeignKey[@Name='FK__phuong_th__phuon__17036CC0']"
   },
   "source": [
    "# [FK__phuong_th__phuon__17036CC0]"
   ]
  },
  {
   "cell_type": "code",
   "execution_count": 0,
   "metadata": {
    "object_type": "ForeignKey",
    "urn": "Server[@Name='DUYTRUONG']/Database[@Name='Final_IBODY']/Table[@Name='phuong_thuc_nguoi_dung' and @Schema='dbo']/ForeignKey[@Name='FK__phuong_th__phuon__17036CC0']"
   },
   "outputs": [],
   "source": [
    "ALTER TABLE [dbo].[phuong_thuc_nguoi_dung]  WITH CHECK ADD FOREIGN KEY([phuong_thuc_id])\n",
    "REFERENCES [dbo].[phuong_thuc_chung] ([id])\n",
    "GO\n"
   ]
  },
  {
   "cell_type": "markdown",
   "metadata": {
    "object_type": "ForeignKey",
    "urn": "Server[@Name='DUYTRUONG']/Database[@Name='Final_IBODY']/Table[@Name='phuong_thuc_nguoi_dung' and @Schema='dbo']/ForeignKey[@Name='FK__phuong_th__tai_k__160F4887']"
   },
   "source": [
    "# [FK__phuong_th__tai_k__160F4887]"
   ]
  },
  {
   "cell_type": "code",
   "execution_count": 0,
   "metadata": {
    "object_type": "ForeignKey",
    "urn": "Server[@Name='DUYTRUONG']/Database[@Name='Final_IBODY']/Table[@Name='phuong_thuc_nguoi_dung' and @Schema='dbo']/ForeignKey[@Name='FK__phuong_th__tai_k__160F4887']"
   },
   "outputs": [],
   "source": [
    "ALTER TABLE [dbo].[phuong_thuc_nguoi_dung]  WITH CHECK ADD FOREIGN KEY([tai_khoan_id])\n",
    "REFERENCES [dbo].[tai_khoan] ([id])\n",
    "GO\n"
   ]
  },
  {
   "cell_type": "markdown",
   "metadata": {
    "object_type": "ForeignKey",
    "urn": "Server[@Name='DUYTRUONG']/Database[@Name='Final_IBODY']/Table[@Name='thoi_gian_ranh_chuyen_gia' and @Schema='dbo']/ForeignKey[@Name='FK__thoi_gian__chuye__46E78A0C']"
   },
   "source": [
    "# [FK__thoi_gian__chuye__46E78A0C]"
   ]
  },
  {
   "cell_type": "code",
   "execution_count": 0,
   "metadata": {
    "object_type": "ForeignKey",
    "urn": "Server[@Name='DUYTRUONG']/Database[@Name='Final_IBODY']/Table[@Name='thoi_gian_ranh_chuyen_gia' and @Schema='dbo']/ForeignKey[@Name='FK__thoi_gian__chuye__46E78A0C']"
   },
   "outputs": [],
   "source": [
    "ALTER TABLE [dbo].[thoi_gian_ranh_chuyen_gia]  WITH CHECK ADD FOREIGN KEY([chuyen_gia_id])\n",
    "REFERENCES [dbo].[chuyen_gia] ([id])\n",
    "GO\n"
   ]
  },
  {
   "cell_type": "markdown",
   "metadata": {
    "object_type": "ForeignKey",
    "urn": "Server[@Name='DUYTRUONG']/Database[@Name='Final_IBODY']/Table[@Name='thong_bao' and @Schema='dbo']/ForeignKey[@Name='FK__thong_bao__tai_k__5FB337D6']"
   },
   "source": [
    "# [FK__thong_bao__tai_k__5FB337D6]"
   ]
  },
  {
   "cell_type": "code",
   "execution_count": 0,
   "metadata": {
    "object_type": "ForeignKey",
    "urn": "Server[@Name='DUYTRUONG']/Database[@Name='Final_IBODY']/Table[@Name='thong_bao' and @Schema='dbo']/ForeignKey[@Name='FK__thong_bao__tai_k__5FB337D6']"
   },
   "outputs": [],
   "source": [
    "ALTER TABLE [dbo].[thong_bao]  WITH CHECK ADD FOREIGN KEY([tai_khoan_id])\n",
    "REFERENCES [dbo].[tai_khoan] ([id])\n",
    "GO\n"
   ]
  },
  {
   "cell_type": "markdown",
   "metadata": {
    "object_type": "ForeignKey",
    "urn": "Server[@Name='DUYTRUONG']/Database[@Name='Final_IBODY']/Table[@Name='tin_nhan' and @Schema='dbo']/ForeignKey[@Name='FK__tin_nhan__nguoi___5BE2A6F2']"
   },
   "source": [
    "# [FK__tin_nhan__nguoi___5BE2A6F2]"
   ]
  },
  {
   "cell_type": "code",
   "execution_count": 0,
   "metadata": {
    "object_type": "ForeignKey",
    "urn": "Server[@Name='DUYTRUONG']/Database[@Name='Final_IBODY']/Table[@Name='tin_nhan' and @Schema='dbo']/ForeignKey[@Name='FK__tin_nhan__nguoi___5BE2A6F2']"
   },
   "outputs": [],
   "source": [
    "ALTER TABLE [dbo].[tin_nhan]  WITH CHECK ADD FOREIGN KEY([nguoi_gui_id])\n",
    "REFERENCES [dbo].[tai_khoan] ([id])\n",
    "GO\n"
   ]
  },
  {
   "cell_type": "markdown",
   "metadata": {
    "object_type": "ForeignKey",
    "urn": "Server[@Name='DUYTRUONG']/Database[@Name='Final_IBODY']/Table[@Name='tin_nhan' and @Schema='dbo']/ForeignKey[@Name='FK__tin_nhan__nguoi___5CD6CB2B']"
   },
   "source": [
    "# [FK__tin_nhan__nguoi___5CD6CB2B]"
   ]
  },
  {
   "cell_type": "code",
   "execution_count": 0,
   "metadata": {
    "object_type": "ForeignKey",
    "urn": "Server[@Name='DUYTRUONG']/Database[@Name='Final_IBODY']/Table[@Name='tin_nhan' and @Schema='dbo']/ForeignKey[@Name='FK__tin_nhan__nguoi___5CD6CB2B']"
   },
   "outputs": [],
   "source": [
    "ALTER TABLE [dbo].[tin_nhan]  WITH CHECK ADD FOREIGN KEY([nguoi_nhan_id])\n",
    "REFERENCES [dbo].[tai_khoan] ([id])\n",
    "GO\n"
   ]
  },
  {
   "cell_type": "markdown",
   "metadata": {
    "object_type": "Check",
    "urn": "Server[@Name='DUYTRUONG']/Database[@Name='Final_IBODY']/Table[@Name='bao_cao_vi_pham' and @Schema='dbo']/Check[@Name='CK__bao_cao_v__loai___72C60C4A']"
   },
   "source": [
    "# [CK__bao_cao_v__loai___72C60C4A]"
   ]
  },
  {
   "cell_type": "code",
   "execution_count": 0,
   "metadata": {
    "object_type": "Check",
    "urn": "Server[@Name='DUYTRUONG']/Database[@Name='Final_IBODY']/Table[@Name='bao_cao_vi_pham' and @Schema='dbo']/Check[@Name='CK__bao_cao_v__loai___72C60C4A']"
   },
   "outputs": [],
   "source": [
    "ALTER TABLE [dbo].[bao_cao_vi_pham]  WITH CHECK ADD CHECK  (([loai_doi_tuong]='nguoi_dung' OR [loai_doi_tuong]='bai_viet' OR [loai_doi_tuong]='binh_luan'))\n",
    "GO\n"
   ]
  },
  {
   "cell_type": "markdown",
   "metadata": {
    "object_type": "Check",
    "urn": "Server[@Name='DUYTRUONG']/Database[@Name='Final_IBODY']/Table[@Name='binh_luan' and @Schema='dbo']/Check[@Name='CK__binh_luan__loai___59063A47']"
   },
   "source": [
    "# [CK__binh_luan__loai___59063A47]"
   ]
  },
  {
   "cell_type": "code",
   "execution_count": 0,
   "metadata": {
    "object_type": "Check",
    "urn": "Server[@Name='DUYTRUONG']/Database[@Name='Final_IBODY']/Table[@Name='binh_luan' and @Schema='dbo']/Check[@Name='CK__binh_luan__loai___59063A47']"
   },
   "outputs": [],
   "source": [
    "ALTER TABLE [dbo].[binh_luan]  WITH CHECK ADD CHECK  (([loai_doi_tuong]='chuyen_gia' OR [loai_doi_tuong]='bai_viet'))\n",
    "GO\n"
   ]
  },
  {
   "cell_type": "markdown",
   "metadata": {
    "object_type": "Check",
    "urn": "Server[@Name='DUYTRUONG']/Database[@Name='Final_IBODY']/Table[@Name='chuyen_gia' and @Schema='dbo']/Check[@Name='CK__chuyen_gi__trang__412EB0B6']"
   },
   "source": [
    "# [CK__chuyen_gi__trang__412EB0B6]"
   ]
  },
  {
   "cell_type": "code",
   "execution_count": 0,
   "metadata": {
    "object_type": "Check",
    "urn": "Server[@Name='DUYTRUONG']/Database[@Name='Final_IBODY']/Table[@Name='chuyen_gia' and @Schema='dbo']/Check[@Name='CK__chuyen_gi__trang__412EB0B6']"
   },
   "outputs": [],
   "source": [
    "ALTER TABLE [dbo].[chuyen_gia]  WITH CHECK ADD CHECK  (([trang_thai]='tu_choi' OR [trang_thai]='xac_thuc' OR [trang_thai]='cho_duyet'))\n",
    "GO\n"
   ]
  },
  {
   "cell_type": "markdown",
   "metadata": {
    "object_type": "Check",
    "urn": "Server[@Name='DUYTRUONG']/Database[@Name='Final_IBODY']/Table[@Name='danh_gia' and @Schema='dbo']/Check[@Name='CK__danh_gia__diem_s__5535A963']"
   },
   "source": [
    "# [CK__danh_gia__diem_s__5535A963]"
   ]
  },
  {
   "cell_type": "code",
   "execution_count": 0,
   "metadata": {
    "object_type": "Check",
    "urn": "Server[@Name='DUYTRUONG']/Database[@Name='Final_IBODY']/Table[@Name='danh_gia' and @Schema='dbo']/Check[@Name='CK__danh_gia__diem_s__5535A963']"
   },
   "outputs": [],
   "source": [
    "ALTER TABLE [dbo].[danh_gia]  WITH CHECK ADD CHECK  (([diem_so]>=(1) AND [diem_so]<=(5)))\n",
    "GO\n"
   ]
  },
  {
   "cell_type": "markdown",
   "metadata": {
    "object_type": "Check",
    "urn": "Server[@Name='DUYTRUONG']/Database[@Name='Final_IBODY']/Table[@Name='goi_dich_vu' and @Schema='dbo']/Check[@Name='CK__goi_dich___danh___6383C8BA']"
   },
   "source": [
    "# [CK__goi_dich___danh___6383C8BA]"
   ]
  },
  {
   "cell_type": "code",
   "execution_count": 0,
   "metadata": {
    "object_type": "Check",
    "urn": "Server[@Name='DUYTRUONG']/Database[@Name='Final_IBODY']/Table[@Name='goi_dich_vu' and @Schema='dbo']/Check[@Name='CK__goi_dich___danh___6383C8BA']"
   },
   "outputs": [],
   "source": [
    "ALTER TABLE [dbo].[goi_dich_vu]  WITH CHECK ADD CHECK  (([danh_cho]='chuyen_gia' OR [danh_cho]='nguoi_dung'))\n",
    "GO\n"
   ]
  },
  {
   "cell_type": "markdown",
   "metadata": {
    "object_type": "Check",
    "urn": "Server[@Name='DUYTRUONG']/Database[@Name='Final_IBODY']/Table[@Name='hinh_thuc_tu_van' and @Schema='dbo']/Check[@Name='CK__hinh_thuc_t__ten__4AB81AF0']"
   },
   "source": [
    "# [CK__hinh_thuc_t__ten__4AB81AF0]"
   ]
  },
  {
   "cell_type": "code",
   "execution_count": 0,
   "metadata": {
    "object_type": "Check",
    "urn": "Server[@Name='DUYTRUONG']/Database[@Name='Final_IBODY']/Table[@Name='hinh_thuc_tu_van' and @Schema='dbo']/Check[@Name='CK__hinh_thuc_t__ten__4AB81AF0']"
   },
   "outputs": [],
   "source": [
    "ALTER TABLE [dbo].[hinh_thuc_tu_van]  WITH CHECK ADD CHECK  (([ten]='call' OR [ten]='video' OR [ten]='chat'))\n",
    "GO\n"
   ]
  },
  {
   "cell_type": "markdown",
   "metadata": {
    "object_type": "Check",
    "urn": "Server[@Name='DUYTRUONG']/Database[@Name='Final_IBODY']/Table[@Name='lich_hen' and @Schema='dbo']/Check[@Name='CK__lich_hen__trang___25518C17']"
   },
   "source": [
    "# [CK__lich_hen__trang___25518C17]"
   ]
  },
  {
   "cell_type": "code",
   "execution_count": 0,
   "metadata": {
    "object_type": "Check",
    "urn": "Server[@Name='DUYTRUONG']/Database[@Name='Final_IBODY']/Table[@Name='lich_hen' and @Schema='dbo']/Check[@Name='CK__lich_hen__trang___25518C17']"
   },
   "outputs": [],
   "source": [
    "ALTER TABLE [dbo].[lich_hen]  WITH CHECK ADD CHECK  (([trang_thai]='da_huy' OR [trang_thai]='da_thanh_toan' OR [trang_thai]='cho_thanh_toan'))\n",
    "GO\n"
   ]
  },
  {
   "cell_type": "markdown",
   "metadata": {
    "object_type": "Check",
    "urn": "Server[@Name='DUYTRUONG']/Database[@Name='Final_IBODY']/Table[@Name='nguoi_dung' and @Schema='dbo']/Check[@Name='CK__nguoi_dun__gioi___3D5E1FD2']"
   },
   "source": [
    "# [CK__nguoi_dun__gioi___3D5E1FD2]"
   ]
  },
  {
   "cell_type": "code",
   "execution_count": 0,
   "metadata": {
    "object_type": "Check",
    "urn": "Server[@Name='DUYTRUONG']/Database[@Name='Final_IBODY']/Table[@Name='nguoi_dung' and @Schema='dbo']/Check[@Name='CK__nguoi_dun__gioi___3D5E1FD2']"
   },
   "outputs": [],
   "source": [
    "ALTER TABLE [dbo].[nguoi_dung]  WITH CHECK ADD CHECK  (([gioi_tinh]='khac' OR [gioi_tinh]='nu' OR [gioi_tinh]='nam'))\n",
    "GO\n"
   ]
  },
  {
   "cell_type": "markdown",
   "metadata": {
    "object_type": "Check",
    "urn": "Server[@Name='DUYTRUONG']/Database[@Name='Final_IBODY']/Table[@Name='phuong_thuc_chung' and @Schema='dbo']/Check[@Name='CK__phuong_th__trang__114A936A']"
   },
   "source": [
    "# [CK__phuong_th__trang__114A936A]"
   ]
  },
  {
   "cell_type": "code",
   "execution_count": 0,
   "metadata": {
    "object_type": "Check",
    "urn": "Server[@Name='DUYTRUONG']/Database[@Name='Final_IBODY']/Table[@Name='phuong_thuc_chung' and @Schema='dbo']/Check[@Name='CK__phuong_th__trang__114A936A']"
   },
   "outputs": [],
   "source": [
    "ALTER TABLE [dbo].[phuong_thuc_chung]  WITH CHECK ADD CHECK  (([trang_thai]='an' OR [trang_thai]='hien'))\n",
    "GO\n"
   ]
  },
  {
   "cell_type": "markdown",
   "metadata": {
    "object_type": "Check",
    "urn": "Server[@Name='DUYTRUONG']/Database[@Name='Final_IBODY']/Table[@Name='tai_khoan' and @Schema='dbo']/Check[@Name='CK__tai_khoan__trang__398D8EEE']"
   },
   "source": [
    "# [CK__tai_khoan__trang__398D8EEE]"
   ]
  },
  {
   "cell_type": "code",
   "execution_count": 0,
   "metadata": {
    "object_type": "Check",
    "urn": "Server[@Name='DUYTRUONG']/Database[@Name='Final_IBODY']/Table[@Name='tai_khoan' and @Schema='dbo']/Check[@Name='CK__tai_khoan__trang__398D8EEE']"
   },
   "outputs": [],
   "source": [
    "ALTER TABLE [dbo].[tai_khoan]  WITH CHECK ADD CHECK  (([trang_thai]='cho_duyet' OR [trang_thai]='khoa' OR [trang_thai]='hoat_dong'))\n",
    "GO\n"
   ]
  },
  {
   "cell_type": "markdown",
   "metadata": {
    "object_type": "Check",
    "urn": "Server[@Name='DUYTRUONG']/Database[@Name='Final_IBODY']/Table[@Name='tai_khoan' and @Schema='dbo']/Check[@Name='CK__tai_khoan__vai_t__38996AB5']"
   },
   "source": [
    "# [CK__tai_khoan__vai_t__38996AB5]"
   ]
  },
  {
   "cell_type": "code",
   "execution_count": 0,
   "metadata": {
    "object_type": "Check",
    "urn": "Server[@Name='DUYTRUONG']/Database[@Name='Final_IBODY']/Table[@Name='tai_khoan' and @Schema='dbo']/Check[@Name='CK__tai_khoan__vai_t__38996AB5']"
   },
   "outputs": [],
   "source": [
    "ALTER TABLE [dbo].[tai_khoan]  WITH CHECK ADD CHECK  (([vai_tro]='quan_tri' OR [vai_tro]='chuyen_gia' OR [vai_tro]='nguoi_dung'))\n",
    "GO\n"
   ]
  },
  {
   "cell_type": "markdown",
   "metadata": {
    "object_type": "Check",
    "urn": "Server[@Name='DUYTRUONG']/Database[@Name='Final_IBODY']/Table[@Name='thoi_gian_ranh_chuyen_gia' and @Schema='dbo']/Check[@Name='CK__thoi_gian__thu_t__47DBAE45']"
   },
   "source": [
    "# [CK__thoi_gian__thu_t__47DBAE45]"
   ]
  },
  {
   "cell_type": "code",
   "execution_count": 0,
   "metadata": {
    "object_type": "Check",
    "urn": "Server[@Name='DUYTRUONG']/Database[@Name='Final_IBODY']/Table[@Name='thoi_gian_ranh_chuyen_gia' and @Schema='dbo']/Check[@Name='CK__thoi_gian__thu_t__47DBAE45']"
   },
   "outputs": [],
   "source": [
    "ALTER TABLE [dbo].[thoi_gian_ranh_chuyen_gia]  WITH CHECK ADD CHECK  (([thu_trong_tuan]>=(0) AND [thu_trong_tuan]<=(6)))\n",
    "GO\n"
   ]
  },
  {
   "cell_type": "markdown",
   "metadata": {
    "object_type": "Check",
    "urn": "Server[@Name='DUYTRUONG']/Database[@Name='Final_IBODY']/Table[@Name='thong_bao' and @Schema='dbo']/Check[@Name='CK__thong_bao__loai__60A75C0F']"
   },
   "source": [
    "# [CK__thong_bao__loai__60A75C0F]"
   ]
  },
  {
   "cell_type": "code",
   "execution_count": 0,
   "metadata": {
    "object_type": "Check",
    "urn": "Server[@Name='DUYTRUONG']/Database[@Name='Final_IBODY']/Table[@Name='thong_bao' and @Schema='dbo']/Check[@Name='CK__thong_bao__loai__60A75C0F']"
   },
   "outputs": [],
   "source": [
    "ALTER TABLE [dbo].[thong_bao]  WITH CHECK ADD CHECK  (([loai]='bao_cao' OR [loai]='lich_hen' OR [loai]='he_thong'))\n",
    "GO\n"
   ]
  }
 ],
 "metadata": {
  "kernel_spec": {
   "display_name": "SQL",
   "language": "sql",
   "name": "SQL"
  },
  "language_info": {
   "name": "sql",
   "version": ""
  }
 },
 "nbformat": 4,
 "nbformat_minor": 2
}
